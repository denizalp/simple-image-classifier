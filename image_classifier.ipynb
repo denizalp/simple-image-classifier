{
  "nbformat": 4,
  "nbformat_minor": 0,
  "metadata": {
    "colab": {
      "name": "HW1-dc2802-dg2906.ipynb",
      "version": "0.3.2",
      "provenance": [],
      "collapsed_sections": [],
      "include_colab_link": true
    },
    "kernelspec": {
      "name": "python3",
      "display_name": "Python 3"
    },
    "accelerator": "GPU"
  },
  "cells": [
    {
      "metadata": {
        "id": "0o7JCRQXgPY0",
        "colab_type": "text"
      },
      "cell_type": "markdown",
      "source": [
        "# **Part 1**"
      ]
    },
    {
      "metadata": {
        "id": "nynkTjEEZCS0",
        "colab_type": "text"
      },
      "cell_type": "markdown",
      "source": [
        "## 1.1 Load and Process Data"
      ]
    },
    {
      "metadata": {
        "id": "6GS39izN3BWt",
        "colab_type": "code",
        "outputId": "40350114-3468-4b5e-af69-8b5d44c9306f",
        "colab": {
          "base_uri": "https://localhost:8080/",
          "height": 54
        }
      },
      "cell_type": "code",
      "source": [
        "import torch, torchvision\n",
        "import numpy as np\n",
        "transform = torchvision.transforms.Compose(\n",
        "    [torchvision.transforms.ToTensor(),\n",
        "     torchvision.transforms.Normalize((0.5, 0.5, 0.5), (0.5, 0.5, 0.5))])\n",
        "\n",
        "trainset = torchvision.datasets.CIFAR10(root='./data', train=True,\n",
        "                                        download=True, transform=transform)\n",
        "\n",
        "testset = torchvision.datasets.CIFAR10(root='./data', train=False,\n",
        "                                        download=True, transform=transform)"
      ],
      "execution_count": 0,
      "outputs": [
        {
          "output_type": "stream",
          "text": [
            "Downloading https://www.cs.toronto.edu/~kriz/cifar-10-python.tar.gz to ./data/cifar-10-python.tar.gz\n",
            "Files already downloaded and verified\n"
          ],
          "name": "stdout"
        }
      ]
    },
    {
      "metadata": {
        "id": "GxiYNuLzZKKh",
        "colab_type": "text"
      },
      "cell_type": "markdown",
      "source": [
        "### Divide Data Into Training, Validation and Testing Sets"
      ]
    },
    {
      "metadata": {
        "id": "a0ax_HeEY9tN",
        "colab_type": "code",
        "colab": {}
      },
      "cell_type": "code",
      "source": [
        "import numpy as np\n",
        "#Prepare Data\n",
        "X_train = np.array([trainset[i][0].numpy().flatten() for i in range(len(trainset))])\n",
        "Y_train = np.squeeze(np.array([trainset[i][1] for i in range(len(trainset))]))\n",
        "\n",
        "X_val = X_train[:5000]\n",
        "Y_val = Y_train[:5000]\n",
        "\n",
        "X_train = X_train[5000:]\n",
        "Y_train = Y_train[5000:]\n",
        "\n",
        "X_test = np.array([testset[i][0].numpy().flatten() for i in range(len(testset))])\n",
        "Y_test = np.squeeze(np.array([testset[i][1] for i in range(len(testset))]))"
      ],
      "execution_count": 0,
      "outputs": []
    },
    {
      "metadata": {
        "id": "ISu64bOPI8B-",
        "colab_type": "code",
        "outputId": "7b8381a0-0940-4fef-ef6c-60c1ff37270a",
        "colab": {
          "base_uri": "https://localhost:8080/",
          "height": 763
        }
      },
      "cell_type": "code",
      "source": [
        ""
      ],
      "execution_count": 0,
      "outputs": [
        {
          "output_type": "execute_result",
          "data": {
            "text/plain": [
              "array([[[ 0.20784318, -0.01176471, -0.17647058, ..., -0.2862745 ,\n",
              "         -0.31764704, -0.38039213],\n",
              "        [ 0.09803927,  0.13725495, -0.01960784, ..., -0.24705881,\n",
              "         -0.3960784 , -0.44313723],\n",
              "        [ 0.09803927,  0.09019613, -0.09803921, ..., -0.38039213,\n",
              "         -0.46666664, -0.47450978],\n",
              "        ...,\n",
              "        [ 0.37254906,  0.22352946,  0.20784318, ..., -0.67058825,\n",
              "         -0.52156866, -0.27058822],\n",
              "        [ 0.2941177 ,  0.22352946,  0.24705887, ..., -0.19215685,\n",
              "         -0.03529412,  0.02745104],\n",
              "        [ 0.27843142,  0.23921573,  0.27843142, ...,  0.12156868,\n",
              "          0.12156868,  0.12156868]],\n",
              "\n",
              "       [[ 0.38823533,  0.07450986, -0.18431371, ..., -0.25490195,\n",
              "         -0.29411763, -0.36470586],\n",
              "        [ 0.254902  ,  0.20000005, -0.01960784, ..., -0.2235294 ,\n",
              "         -0.372549  , -0.42745095],\n",
              "        [ 0.21568632,  0.14509809, -0.09803921, ..., -0.35686272,\n",
              "         -0.45098037, -0.4588235 ],\n",
              "        ...,\n",
              "        [ 0.30980396,  0.20784318,  0.254902  , ..., -0.73333335,\n",
              "         -0.58431375, -0.3490196 ],\n",
              "        [ 0.20784318,  0.19215691,  0.26274514, ..., -0.27058822,\n",
              "         -0.10588235, -0.05098039],\n",
              "        [ 0.16078436,  0.16078436,  0.22352946, ...,  0.04313731,\n",
              "          0.05098045,  0.04313731]],\n",
              "\n",
              "       [[ 0.4666667 ,  0.06666672, -0.25490195, ..., -0.44313723,\n",
              "         -0.44313723, -0.45098037],\n",
              "        [ 0.32549024,  0.20784318, -0.0745098 , ..., -0.38823527,\n",
              "         -0.5137255 , -0.52156866],\n",
              "        [ 0.28627455,  0.1686275 , -0.12156862, ..., -0.4980392 ,\n",
              "         -0.5686275 , -0.5686275 ],\n",
              "        ...,\n",
              "        [ 0.30196083,  0.254902  ,  0.33333337, ..., -0.7176471 ,\n",
              "         -0.5529412 , -0.2862745 ],\n",
              "        [ 0.00392163,  0.0196079 ,  0.11372554, ..., -0.24705881,\n",
              "         -0.05882353,  0.02745104],\n",
              "        [-0.05882353, -0.04313725,  0.04313731, ...,  0.09019613,\n",
              "          0.11372554,  0.12941182]]], dtype=float32)"
            ]
          },
          "metadata": {
            "tags": []
          },
          "execution_count": 5
        }
      ]
    },
    {
      "metadata": {
        "id": "5e6kMkdcZQ8R",
        "colab_type": "text"
      },
      "cell_type": "markdown",
      "source": [
        "## 1.2 Build Fully Connected Network, Check Performance"
      ]
    },
    {
      "metadata": {
        "id": "_5-ZX7qEaFju",
        "colab_type": "text"
      },
      "cell_type": "markdown",
      "source": [
        "### Build Neural Network Class"
      ]
    },
    {
      "metadata": {
        "id": "2JzpjS_T4k0M",
        "colab_type": "code",
        "colab": {}
      },
      "cell_type": "code",
      "source": [
        "# Neural Network that uses ReLu activation and cross entropy loss\n",
        "class NeuralNetwork:\n",
        "\n",
        "    def __init__(self, layer_dimensions):\n",
        "        # list of layer sizes e.g. [2,3,4]\n",
        "        self.layers = layer_dimensions\n",
        "        self.params = {} # Dictionnary where we will store weights and biases\n",
        "\n",
        "        for layer in range(1, len(self.layers)):\n",
        "            layer_input = self.layers[layer-1]\n",
        "            layer_output = self.layers[layer]\n",
        "\n",
        "            #weight matrices and biases\n",
        "            self.params['W' + str(layer)] = np.random.randn(layer_output, layer_input )*0.1\n",
        "            self.params['b' + str(layer)] = np.random.randn(layer_output, 1)*0.1\n",
        "\n",
        "    #Transform labels into vectors of 1 and 0s. 1 for the label index, 0 for others.\n",
        "    def one_hot_encode(self, labels):\n",
        "        if len(labels) == 1:\n",
        "            y = [1 if labels == i else 0 for i in range(10) ]\n",
        "        \n",
        "        else:\n",
        "            y = [[1 if label == i else 0 for i in range(10) ] for label in labels]\n",
        "\n",
        "        return np.array(y)\n",
        "\n",
        "    #ReLu activation: A = relu(Z)\n",
        "    def activationForward(self, Z):\n",
        "        return np.maximum(0,Z)\n",
        "\n",
        "    #affineForward(self, A, W, b) computes Z = W*A + b\n",
        "    def affineForward(self, A, W, b):\n",
        "        return self.activationForward( W @ A + b), W @ A  + b\n",
        "\n",
        "\n",
        "    #Call affineForward() on each layer\n",
        "    def forwardPropagation(self, X, cache):\n",
        "        A_curr = X\n",
        "\n",
        "        #for i in range(len(self.layers)):\n",
        "        for layer in range(1, len(self.layers)):\n",
        "            A_prev = A_curr\n",
        "            W_curr = self.params[\"W\" + str(layer)]\n",
        "            b_curr = self.params[\"b\" + str(layer)]\n",
        "            A_curr, Z_curr = self.affineForward(A_prev, W_curr, b_curr)\n",
        "\n",
        "            cache[\"A\" + str(layer + 1)] = np.nan_to_num(A_prev)\n",
        "            cache[\"Z\" + str(layer)] = np.nan_to_num(Z_curr)\n",
        "\n",
        "        result = np.array(self.softmax(A_curr))\n",
        "        result = np.nan_to_num(result)\n",
        "\n",
        "\n",
        "        return result, cache\n",
        "\n",
        "    #Softmax function used for output layer\n",
        "    def softmax(self, v):\n",
        "        #m is a constant used to stop overflow\n",
        "        m = np.max(v)\n",
        "        result = np.nan_to_num(np.exp(v-m)/np.sum(np.exp(v-m),axis = 0))\n",
        "\n",
        "        return result\n",
        "\n",
        "    def probability_to_class(self, Y_hat):\n",
        "        return np.argmax(Y_hat, axis = 0)\n",
        "     \n",
        "\n",
        "    # cross-entropy cost function\n",
        "    # y is a list of correct labels\n",
        "    def costFunction(self, Y_hat, Y):\n",
        "        # compute cross-entropy loss from softmax\n",
        "        N = Y.shape[0]\n",
        "        Y = np.array(self.one_hot_encode(Y))\n",
        "        epsilon = 2.220446049250313e-16\n",
        "        loss = -(np.trace((Y @  np.log(Y_hat + epsilon))))\n",
        "        return np.squeeze((1/N) * loss)\n",
        "\n",
        "    def accuracy_rate(self, Y_hat, Y):\n",
        "        Y_hat = self.probability_to_class(Y_hat)\n",
        "        return np.mean((Y_hat == Y))\n",
        "\n",
        "\n",
        "    def affineBackward(self, dA, A_prev, Z_curr, W_curr):\n",
        "        N = A_prev.shape[1]\n",
        "        dZ_curr = np.nan_to_num(self.activationBackward(dA, Z_curr))\n",
        "        dW_curr = (1/N)*np.nan_to_num((dZ_curr @ A_prev.T))\n",
        "        db_curr = (1/N)*np.nan_to_num(np.sum(dZ_curr, axis=1, keepdims=True))\n",
        "        dA_prev = np.nan_to_num(W_curr.T @ dZ_curr)\n",
        "\n",
        "        return dZ_curr, dW_curr, db_curr, dA_prev\n",
        "\n",
        "    #Derivative of the RELU\n",
        "    def activationBackward(self, dA, Z):\n",
        "        dZ = np.array(dA, copy = True)\n",
        "        return dZ*(Z>=0)\n",
        "\n",
        "    #Backpropagation algorithm\n",
        "    def backPropagation(self, Y_hat, Y, cache):\n",
        "        grads = {}\n",
        "        N = Y.shape[0]\n",
        "        Y = np.array(self.one_hot_encode(Y))\n",
        "        \n",
        "        dA_prev = (Y_hat - Y.T)\n",
        "\n",
        "        for layer in range(len(self.layers) - 1, 0,-1):\n",
        "            \n",
        "            dA_curr = dA_prev\n",
        "            A_prev = cache[\"A\" + str(layer + 1)]\n",
        "            Z_curr = cache[\"Z\" + str(layer)]\n",
        "            W_curr = self.params[\"W\" + str(layer)]\n",
        "            b_curr = self.params[\"b\" + str(layer)]\n",
        "\n",
        "            dZ_curr, dW_curr, db_curr, dA_prev = self.affineBackward(dA_curr, A_prev, Z_curr, W_curr)\n",
        "            #print(f\"dZ: {dZ_curr.shape}, dA: {dA_prev.shape}, dW: {dW_curr.shape}, db: {db_curr.shape}\")\n",
        "\n",
        "\n",
        "            grads[\"dW\" + str(layer)] = dW_curr\n",
        "            grads[\"db\" + str(layer)] = db_curr\n",
        "\n",
        "        return grads\n",
        "\n",
        "    #Gradient Descent Function\n",
        "    def updateParameters(self, gradients, alpha):\n",
        "        for layer in range(1, len(self.layers)):\n",
        "            self.params[\"W\" + str(layer)] -= alpha * gradients[\"dW\" + str(layer)]\n",
        "            self.params[\"b\" + str(layer)] -= alpha * gradients[\"db\" + str(layer)]\n",
        "        return self.params\n",
        "\n",
        "\n",
        "\n",
        "    def train(self, X_train, X_val, Y_train, Y_val, iters, alpha, batch_size):\n",
        "        cost_history = []\n",
        "        training_accuracy = []\n",
        "        validation_accuracy = 0\n",
        "        N_train = X_train.shape[1]\n",
        "\n",
        "        #train\n",
        "        for iter in range(iters):\n",
        "          for batch in range(0, N_train, batch_size):\n",
        "              #for iteration in range(iters):\n",
        "              Y_hat, cache = self.forwardPropagation(X_train[:,batch:batch+batch_size], {})\n",
        "              cost = self.costFunction(Y_hat, Y_train[batch:batch+batch_size])\n",
        "              cost_history.append(cost)\n",
        "              accuracy = self.accuracy_rate(Y_hat, Y_train[batch:batch+batch_size])\n",
        "              training_accuracy.append(accuracy)\n",
        "              if batch % 20000 == 0:\n",
        "                  print(f\"Epoch: {iter}: Batch {batch} - Before weight update - Current cost is: {cost} and current accuracy is {accuracy}\")\n",
        "              \n",
        "              grads = self.backPropagation(Y_hat, Y_train[batch:batch+batch_size], cache)\n",
        "              parameters = self.updateParameters(grads, alpha)\n",
        "              Y_hat, cache = self.forwardPropagation(X_train[:,batch:batch+batch_size], {})\n",
        "              cost = self.costFunction(Y_hat, Y_train[batch:batch+batch_size])\n",
        "              accuracy = self.accuracy_rate(Y_hat, Y_train[batch:batch+batch_size])\n",
        "              #print(parameters)\n",
        "              if batch % 20000 == 0:\n",
        "                  print(f\"Batch: {batch} - After weight update - Current cost is: {cost} and current accuracy is {accuracy}\")\n",
        "\n",
        "        #validation\n",
        "\n",
        "        Y_hat, cache = self.forwardPropagation(X_val, {})\n",
        "        accuracy = self.accuracy_rate(Y_hat, Y_val)\n",
        "        validation_accuarcy = accuracy\n",
        "\n",
        "\n",
        "\n",
        "        return cost_history, training_accuracy, validation_accuracy\n",
        "\n",
        "\n",
        "    def predict(self, X_new, cache = {}):\n",
        "        result = self.forwardPropagation(X_new, cache)[0]\n",
        "        return self.probability_to_class(result)\n",
        " \n"
      ],
      "execution_count": 0,
      "outputs": []
    },
    {
      "metadata": {
        "id": "PSIZxR5WZztz",
        "colab_type": "text"
      },
      "cell_type": "markdown",
      "source": [
        "### Construct an Instance of Neural Network Class and Start Training"
      ]
    },
    {
      "metadata": {
        "id": "C2x_aDHSUO-X",
        "colab_type": "code",
        "outputId": "6c21b445-bce3-45f1-bc6b-9fc6f5a96a28",
        "colab": {
          "base_uri": "https://localhost:8080/",
          "height": 3182
        }
      },
      "cell_type": "code",
      "source": [
        "NN = NeuralNetwork([3072, 64, 24, 10])\n",
        "\n",
        "#Training \n",
        "cost_hist, training_accu, validation_accu = NN.train(X_train.T, X_val.T, Y_train, Y_val, 30, 0.01, 25)"
      ],
      "execution_count": 0,
      "outputs": [
        {
          "output_type": "stream",
          "text": [
            "Epoch: 0: Batch 0 - Before weight update - Current cost is: 2.2914454609322044 and current accuracy is 0.24\n",
            "Batch: 0 - After weight update - Current cost is: 2.267349811048641 and current accuracy is 0.24\n",
            "Epoch: 0: Batch 20000 - Before weight update - Current cost is: 1.9856428813745668 and current accuracy is 0.36\n",
            "Batch: 20000 - After weight update - Current cost is: 1.9438282570616596 and current accuracy is 0.4\n",
            "Epoch: 0: Batch 40000 - Before weight update - Current cost is: 1.6519136753766466 and current accuracy is 0.44\n",
            "Batch: 40000 - After weight update - Current cost is: 1.5775262242772274 and current accuracy is 0.52\n",
            "Epoch: 1: Batch 0 - Before weight update - Current cost is: 1.7654616573156148 and current accuracy is 0.36\n",
            "Batch: 0 - After weight update - Current cost is: 1.7277558405866893 and current accuracy is 0.4\n",
            "Epoch: 1: Batch 20000 - Before weight update - Current cost is: 1.733344999961523 and current accuracy is 0.48\n",
            "Batch: 20000 - After weight update - Current cost is: 1.6758924720030837 and current accuracy is 0.48\n",
            "Epoch: 1: Batch 40000 - Before weight update - Current cost is: 1.427011313530242 and current accuracy is 0.68\n",
            "Batch: 40000 - After weight update - Current cost is: 1.3464716764207354 and current accuracy is 0.68\n",
            "Epoch: 2: Batch 0 - Before weight update - Current cost is: 1.6519228856927723 and current accuracy is 0.48\n",
            "Batch: 0 - After weight update - Current cost is: 1.603212321155488 and current accuracy is 0.48\n",
            "Epoch: 2: Batch 20000 - Before weight update - Current cost is: 1.6583707963781016 and current accuracy is 0.48\n",
            "Batch: 20000 - After weight update - Current cost is: 1.6026607122146304 and current accuracy is 0.56\n",
            "Epoch: 2: Batch 40000 - Before weight update - Current cost is: 1.2744587846217195 and current accuracy is 0.64\n",
            "Batch: 40000 - After weight update - Current cost is: 1.2044974484933848 and current accuracy is 0.76\n",
            "Epoch: 3: Batch 0 - Before weight update - Current cost is: 1.651085725765947 and current accuracy is 0.44\n",
            "Batch: 0 - After weight update - Current cost is: 1.5939438946148565 and current accuracy is 0.48\n",
            "Epoch: 3: Batch 20000 - Before weight update - Current cost is: 1.5504046508233784 and current accuracy is 0.48\n",
            "Batch: 20000 - After weight update - Current cost is: 1.4809850836271772 and current accuracy is 0.52\n",
            "Epoch: 3: Batch 40000 - Before weight update - Current cost is: 1.144104915224387 and current accuracy is 0.68\n",
            "Batch: 40000 - After weight update - Current cost is: 1.0584659486096042 and current accuracy is 0.76\n",
            "Epoch: 4: Batch 0 - Before weight update - Current cost is: 1.758349328170993 and current accuracy is 0.4\n",
            "Batch: 0 - After weight update - Current cost is: 1.6691182238647133 and current accuracy is 0.48\n",
            "Epoch: 4: Batch 20000 - Before weight update - Current cost is: 1.458235872717034 and current accuracy is 0.52\n",
            "Batch: 20000 - After weight update - Current cost is: 1.3839555963637076 and current accuracy is 0.56\n",
            "Epoch: 4: Batch 40000 - Before weight update - Current cost is: 1.0649178204317546 and current accuracy is 0.72\n",
            "Batch: 40000 - After weight update - Current cost is: 0.9778186522839742 and current accuracy is 0.76\n",
            "Epoch: 5: Batch 0 - Before weight update - Current cost is: 1.754744629529381 and current accuracy is 0.4\n",
            "Batch: 0 - After weight update - Current cost is: 1.6619167400167234 and current accuracy is 0.48\n",
            "Epoch: 5: Batch 20000 - Before weight update - Current cost is: 1.3939888331387835 and current accuracy is 0.52\n",
            "Batch: 20000 - After weight update - Current cost is: 1.3203220332632766 and current accuracy is 0.56\n",
            "Epoch: 5: Batch 40000 - Before weight update - Current cost is: 0.9997459267374869 and current accuracy is 0.72\n",
            "Batch: 40000 - After weight update - Current cost is: 0.9148764719208583 and current accuracy is 0.76\n",
            "Epoch: 6: Batch 0 - Before weight update - Current cost is: 1.710721835637229 and current accuracy is 0.4\n",
            "Batch: 0 - After weight update - Current cost is: 1.6153921734711563 and current accuracy is 0.48\n",
            "Epoch: 6: Batch 20000 - Before weight update - Current cost is: 1.3645889778796418 and current accuracy is 0.52\n",
            "Batch: 20000 - After weight update - Current cost is: 1.2886631152657189 and current accuracy is 0.56\n",
            "Epoch: 6: Batch 40000 - Before weight update - Current cost is: 0.9379930252103692 and current accuracy is 0.72\n",
            "Batch: 40000 - After weight update - Current cost is: 0.8487881238531312 and current accuracy is 0.84\n",
            "Epoch: 7: Batch 0 - Before weight update - Current cost is: 1.6605039459647837 and current accuracy is 0.4\n",
            "Batch: 0 - After weight update - Current cost is: 1.5623150605662892 and current accuracy is 0.44\n",
            "Epoch: 7: Batch 20000 - Before weight update - Current cost is: 1.3238002769511306 and current accuracy is 0.48\n",
            "Batch: 20000 - After weight update - Current cost is: 1.2465368834578034 and current accuracy is 0.56\n",
            "Epoch: 7: Batch 40000 - Before weight update - Current cost is: 0.8853736157743205 and current accuracy is 0.76\n",
            "Batch: 40000 - After weight update - Current cost is: 0.7957997466085222 and current accuracy is 0.84\n",
            "Epoch: 8: Batch 0 - Before weight update - Current cost is: 1.6363322752554903 and current accuracy is 0.4\n",
            "Batch: 0 - After weight update - Current cost is: 1.5301176350708576 and current accuracy is 0.44\n",
            "Epoch: 8: Batch 20000 - Before weight update - Current cost is: 1.3042837827190314 and current accuracy is 0.48\n",
            "Batch: 20000 - After weight update - Current cost is: 1.2190130433917632 and current accuracy is 0.6\n",
            "Epoch: 8: Batch 40000 - Before weight update - Current cost is: 0.8304745695131784 and current accuracy is 0.76\n",
            "Batch: 40000 - After weight update - Current cost is: 0.7412306349111212 and current accuracy is 0.84\n",
            "Epoch: 9: Batch 0 - Before weight update - Current cost is: 1.589935430711766 and current accuracy is 0.4\n",
            "Batch: 0 - After weight update - Current cost is: 1.47928195219473 and current accuracy is 0.44\n",
            "Epoch: 9: Batch 20000 - Before weight update - Current cost is: 1.2797462820198122 and current accuracy is 0.52\n",
            "Batch: 20000 - After weight update - Current cost is: 1.1913477932807697 and current accuracy is 0.6\n",
            "Epoch: 9: Batch 40000 - Before weight update - Current cost is: 0.7924286154325202 and current accuracy is 0.76\n",
            "Batch: 40000 - After weight update - Current cost is: 0.7030635869373353 and current accuracy is 0.84\n",
            "Epoch: 10: Batch 0 - Before weight update - Current cost is: 1.5586404918971948 and current accuracy is 0.4\n",
            "Batch: 0 - After weight update - Current cost is: 1.4452554340359327 and current accuracy is 0.48\n",
            "Epoch: 10: Batch 20000 - Before weight update - Current cost is: 1.2578681472325 and current accuracy is 0.56\n",
            "Batch: 20000 - After weight update - Current cost is: 1.1665109488104628 and current accuracy is 0.64\n",
            "Epoch: 10: Batch 40000 - Before weight update - Current cost is: 0.7496780183544466 and current accuracy is 0.8\n",
            "Batch: 40000 - After weight update - Current cost is: 0.6635065218705486 and current accuracy is 0.84\n",
            "Epoch: 11: Batch 0 - Before weight update - Current cost is: 1.5262357104249387 and current accuracy is 0.48\n",
            "Batch: 0 - After weight update - Current cost is: 1.4086287143067364 and current accuracy is 0.48\n",
            "Epoch: 11: Batch 20000 - Before weight update - Current cost is: 1.2377943501659219 and current accuracy is 0.6\n",
            "Batch: 20000 - After weight update - Current cost is: 1.1432206482614689 and current accuracy is 0.64\n",
            "Epoch: 11: Batch 40000 - Before weight update - Current cost is: 0.7170322364100415 and current accuracy is 0.8\n",
            "Batch: 40000 - After weight update - Current cost is: 0.6332509432546393 and current accuracy is 0.92\n",
            "Epoch: 12: Batch 0 - Before weight update - Current cost is: 1.5031785734678291 and current accuracy is 0.48\n",
            "Batch: 0 - After weight update - Current cost is: 1.3789063784048432 and current accuracy is 0.48\n",
            "Epoch: 12: Batch 20000 - Before weight update - Current cost is: 1.213502670020025 and current accuracy is 0.6\n",
            "Batch: 20000 - After weight update - Current cost is: 1.116988812655999 and current accuracy is 0.64\n",
            "Epoch: 12: Batch 40000 - Before weight update - Current cost is: 0.6846471262929713 and current accuracy is 0.88\n",
            "Batch: 40000 - After weight update - Current cost is: 0.6029818075432676 and current accuracy is 0.92\n",
            "Epoch: 13: Batch 0 - Before weight update - Current cost is: 1.4853793231618206 and current accuracy is 0.48\n",
            "Batch: 0 - After weight update - Current cost is: 1.3673787168291927 and current accuracy is 0.52\n",
            "Epoch: 13: Batch 20000 - Before weight update - Current cost is: 1.1948770241636528 and current accuracy is 0.6\n",
            "Batch: 20000 - After weight update - Current cost is: 1.0949490922537013 and current accuracy is 0.6\n",
            "Epoch: 13: Batch 40000 - Before weight update - Current cost is: 0.6471150151437342 and current accuracy is 0.88\n",
            "Batch: 40000 - After weight update - Current cost is: 0.5723268466685612 and current accuracy is 0.96\n",
            "Epoch: 14: Batch 0 - Before weight update - Current cost is: 1.4554595095694962 and current accuracy is 0.52\n",
            "Batch: 0 - After weight update - Current cost is: 1.334806982208914 and current accuracy is 0.56\n",
            "Epoch: 14: Batch 20000 - Before weight update - Current cost is: 1.1837354525195394 and current accuracy is 0.56\n",
            "Batch: 20000 - After weight update - Current cost is: 1.0788862798908427 and current accuracy is 0.64\n",
            "Epoch: 14: Batch 40000 - Before weight update - Current cost is: 0.606169791837498 and current accuracy is 0.92\n",
            "Batch: 40000 - After weight update - Current cost is: 0.5393948577747907 and current accuracy is 0.96\n",
            "Epoch: 15: Batch 0 - Before weight update - Current cost is: 1.434878290011031 and current accuracy is 0.56\n",
            "Batch: 0 - After weight update - Current cost is: 1.3128237182012108 and current accuracy is 0.56\n",
            "Epoch: 15: Batch 20000 - Before weight update - Current cost is: 1.1684198207354395 and current accuracy is 0.56\n",
            "Batch: 20000 - After weight update - Current cost is: 1.0604993031939762 and current accuracy is 0.64\n",
            "Epoch: 15: Batch 40000 - Before weight update - Current cost is: 0.5835406104893215 and current accuracy is 0.96\n",
            "Batch: 40000 - After weight update - Current cost is: 0.5198238966725554 and current accuracy is 0.96\n",
            "Epoch: 16: Batch 0 - Before weight update - Current cost is: 1.4089519289493746 and current accuracy is 0.56\n",
            "Batch: 0 - After weight update - Current cost is: 1.2871433451885792 and current accuracy is 0.56\n",
            "Epoch: 16: Batch 20000 - Before weight update - Current cost is: 1.1539661685093991 and current accuracy is 0.6\n",
            "Batch: 20000 - After weight update - Current cost is: 1.0415775010096724 and current accuracy is 0.64\n",
            "Epoch: 16: Batch 40000 - Before weight update - Current cost is: 0.5586161306814992 and current accuracy is 0.96\n",
            "Batch: 40000 - After weight update - Current cost is: 0.49950217091365245 and current accuracy is 0.96\n",
            "Epoch: 17: Batch 0 - Before weight update - Current cost is: 1.378769401954442 and current accuracy is 0.56\n",
            "Batch: 0 - After weight update - Current cost is: 1.2556407911697922 and current accuracy is 0.56\n",
            "Epoch: 17: Batch 20000 - Before weight update - Current cost is: 1.148372104856636 and current accuracy is 0.6\n",
            "Batch: 20000 - After weight update - Current cost is: 1.0316015864055403 and current accuracy is 0.64\n",
            "Epoch: 17: Batch 40000 - Before weight update - Current cost is: 0.5432885967929593 and current accuracy is 0.96\n",
            "Batch: 40000 - After weight update - Current cost is: 0.4870880457302547 and current accuracy is 0.96\n",
            "Epoch: 18: Batch 0 - Before weight update - Current cost is: 1.3570549969703791 and current accuracy is 0.56\n",
            "Batch: 0 - After weight update - Current cost is: 1.2282607204284919 and current accuracy is 0.56\n",
            "Epoch: 18: Batch 20000 - Before weight update - Current cost is: 1.1408137297194743 and current accuracy is 0.6\n",
            "Batch: 20000 - After weight update - Current cost is: 1.0203744514259263 and current accuracy is 0.64\n",
            "Epoch: 18: Batch 40000 - Before weight update - Current cost is: 0.5259747063573956 and current accuracy is 0.96\n",
            "Batch: 40000 - After weight update - Current cost is: 0.4712004823757172 and current accuracy is 0.96\n",
            "Epoch: 19: Batch 0 - Before weight update - Current cost is: 1.349097347511243 and current accuracy is 0.56\n",
            "Batch: 0 - After weight update - Current cost is: 1.214668494290847 and current accuracy is 0.6\n",
            "Epoch: 19: Batch 20000 - Before weight update - Current cost is: 1.141518305783668 and current accuracy is 0.64\n",
            "Batch: 20000 - After weight update - Current cost is: 1.0188878193071964 and current accuracy is 0.68\n",
            "Epoch: 19: Batch 40000 - Before weight update - Current cost is: 0.5181050884353938 and current accuracy is 0.96\n",
            "Batch: 40000 - After weight update - Current cost is: 0.46376500391465086 and current accuracy is 0.96\n",
            "Epoch: 20: Batch 0 - Before weight update - Current cost is: 1.3315961815742463 and current accuracy is 0.56\n",
            "Batch: 0 - After weight update - Current cost is: 1.193417322477496 and current accuracy is 0.6\n",
            "Epoch: 20: Batch 20000 - Before weight update - Current cost is: 1.129954326871557 and current accuracy is 0.64\n",
            "Batch: 20000 - After weight update - Current cost is: 1.002983189331868 and current accuracy is 0.68\n",
            "Epoch: 20: Batch 40000 - Before weight update - Current cost is: 0.5051604085243929 and current accuracy is 0.92\n",
            "Batch: 40000 - After weight update - Current cost is: 0.45168551240982036 and current accuracy is 0.96\n",
            "Epoch: 21: Batch 0 - Before weight update - Current cost is: 1.314144086435031 and current accuracy is 0.56\n",
            "Batch: 0 - After weight update - Current cost is: 1.1715988381574494 and current accuracy is 0.64\n",
            "Epoch: 21: Batch 20000 - Before weight update - Current cost is: 1.119566657563422 and current accuracy is 0.64\n",
            "Batch: 20000 - After weight update - Current cost is: 0.9857991945771027 and current accuracy is 0.68\n",
            "Epoch: 21: Batch 40000 - Before weight update - Current cost is: 0.48295542039068645 and current accuracy is 0.96\n",
            "Batch: 40000 - After weight update - Current cost is: 0.43240989366270166 and current accuracy is 0.96\n",
            "Epoch: 22: Batch 0 - Before weight update - Current cost is: 1.309700395992549 and current accuracy is 0.56\n",
            "Batch: 0 - After weight update - Current cost is: 1.1612316246219094 and current accuracy is 0.6\n",
            "Epoch: 22: Batch 20000 - Before weight update - Current cost is: 1.0976388000160289 and current accuracy is 0.64\n",
            "Batch: 20000 - After weight update - Current cost is: 0.9599820570405754 and current accuracy is 0.68\n",
            "Epoch: 22: Batch 40000 - Before weight update - Current cost is: 0.48313585437278284 and current accuracy is 0.92\n",
            "Batch: 40000 - After weight update - Current cost is: 0.431924534118709 and current accuracy is 0.96\n",
            "Epoch: 23: Batch 0 - Before weight update - Current cost is: 1.2971203866819232 and current accuracy is 0.56\n",
            "Batch: 0 - After weight update - Current cost is: 1.14523803223939 and current accuracy is 0.6\n",
            "Epoch: 23: Batch 20000 - Before weight update - Current cost is: 1.0828575639374276 and current accuracy is 0.64\n",
            "Batch: 20000 - After weight update - Current cost is: 0.9442342096995145 and current accuracy is 0.68\n",
            "Epoch: 23: Batch 40000 - Before weight update - Current cost is: 0.4665598843870531 and current accuracy is 0.92\n",
            "Batch: 40000 - After weight update - Current cost is: 0.4197719949651674 and current accuracy is 0.96\n",
            "Epoch: 24: Batch 0 - Before weight update - Current cost is: 1.2884203296275585 and current accuracy is 0.56\n",
            "Batch: 0 - After weight update - Current cost is: 1.133009112296703 and current accuracy is 0.64\n",
            "Epoch: 24: Batch 20000 - Before weight update - Current cost is: 1.0643424569407391 and current accuracy is 0.64\n",
            "Batch: 20000 - After weight update - Current cost is: 0.9275152850800592 and current accuracy is 0.72\n",
            "Epoch: 24: Batch 40000 - Before weight update - Current cost is: 0.4608318078216104 and current accuracy is 0.92\n",
            "Batch: 40000 - After weight update - Current cost is: 0.41443757271805565 and current accuracy is 0.96\n",
            "Epoch: 25: Batch 0 - Before weight update - Current cost is: 1.2952331621997153 and current accuracy is 0.56\n",
            "Batch: 0 - After weight update - Current cost is: 1.1348959837761121 and current accuracy is 0.6\n",
            "Epoch: 25: Batch 20000 - Before weight update - Current cost is: 1.0527045497402348 and current accuracy is 0.64\n",
            "Batch: 20000 - After weight update - Current cost is: 0.913621665942392 and current accuracy is 0.72\n",
            "Epoch: 25: Batch 40000 - Before weight update - Current cost is: 0.45009456932290953 and current accuracy is 0.92\n",
            "Batch: 40000 - After weight update - Current cost is: 0.4040410562197112 and current accuracy is 0.92\n",
            "Epoch: 26: Batch 0 - Before weight update - Current cost is: 1.2774372144417652 and current accuracy is 0.56\n",
            "Batch: 0 - After weight update - Current cost is: 1.115040678791336 and current accuracy is 0.64\n",
            "Epoch: 26: Batch 20000 - Before weight update - Current cost is: 1.048659094165857 and current accuracy is 0.64\n",
            "Batch: 20000 - After weight update - Current cost is: 0.9048423216057682 and current accuracy is 0.72\n",
            "Epoch: 26: Batch 40000 - Before weight update - Current cost is: 0.4453801845312084 and current accuracy is 0.92\n",
            "Batch: 40000 - After weight update - Current cost is: 0.3988560199206912 and current accuracy is 0.92\n",
            "Epoch: 27: Batch 0 - Before weight update - Current cost is: 1.2740858597849434 and current accuracy is 0.56\n",
            "Batch: 0 - After weight update - Current cost is: 1.1080020887750432 and current accuracy is 0.64\n",
            "Epoch: 27: Batch 20000 - Before weight update - Current cost is: 1.0333661823789966 and current accuracy is 0.64\n",
            "Batch: 20000 - After weight update - Current cost is: 0.8876799293104704 and current accuracy is 0.72\n",
            "Epoch: 27: Batch 40000 - Before weight update - Current cost is: 0.44358192454943857 and current accuracy is 0.92\n",
            "Batch: 40000 - After weight update - Current cost is: 0.3944821078612681 and current accuracy is 0.92\n",
            "Epoch: 28: Batch 0 - Before weight update - Current cost is: 1.2667752045490037 and current accuracy is 0.56\n",
            "Batch: 0 - After weight update - Current cost is: 1.1042320172036315 and current accuracy is 0.64\n",
            "Epoch: 28: Batch 20000 - Before weight update - Current cost is: 1.0345288357765614 and current accuracy is 0.64\n",
            "Batch: 20000 - After weight update - Current cost is: 0.8883296987850346 and current accuracy is 0.72\n",
            "Epoch: 28: Batch 40000 - Before weight update - Current cost is: 0.42853527430552457 and current accuracy is 0.92\n",
            "Batch: 40000 - After weight update - Current cost is: 0.38193632130492383 and current accuracy is 0.92\n",
            "Epoch: 29: Batch 0 - Before weight update - Current cost is: 1.2648544058616709 and current accuracy is 0.6\n",
            "Batch: 0 - After weight update - Current cost is: 1.093247806946145 and current accuracy is 0.64\n",
            "Epoch: 29: Batch 20000 - Before weight update - Current cost is: 1.0229729899146398 and current accuracy is 0.64\n",
            "Batch: 20000 - After weight update - Current cost is: 0.8743057093887393 and current accuracy is 0.72\n",
            "Epoch: 29: Batch 40000 - Before weight update - Current cost is: 0.4283914138285141 and current accuracy is 0.92\n",
            "Batch: 40000 - After weight update - Current cost is: 0.37931657474911645 and current accuracy is 0.92\n"
          ],
          "name": "stdout"
        }
      ]
    },
    {
      "metadata": {
        "id": "gkrRuQ6kk8Bu",
        "colab_type": "text"
      },
      "cell_type": "markdown",
      "source": [
        "Final training loss is ~ 0.38 and final accuracy on last batch of the training set is 92%. The validation accuracy is: ~ 50.2% (code below) and test set accuracy is ~48.9% (code below). We build a model made of 2 hidden layers, 1 input layer and 1 output layer. The input layer has 3072 nodes (1 for each pixel), the first hidden layer has 64 nodes, the second layer has 24 nodes and finally the last layer has 10 nodes. Note that the end of the model we take the softmax of the output layer."
      ]
    },
    {
      "metadata": {
        "id": "EJbvbjnMfnFY",
        "colab_type": "text"
      },
      "cell_type": "markdown",
      "source": [
        "### Print Progress of Cost and Accuracy Over Iterations"
      ]
    },
    {
      "metadata": {
        "id": "ObwTyAQLfyNY",
        "colab_type": "code",
        "outputId": "1955e948-e513-47c9-94ed-793d25c3021f",
        "colab": {
          "base_uri": "https://localhost:8080/",
          "height": 376
        }
      },
      "cell_type": "code",
      "source": [
        "fig, ax = plt.subplots()\n",
        "ax.plot([i for i in range(0,len(cost_hist),1000)], cost_hist[::1000])\n",
        "\n",
        "ax.set(xlabel='Iteration', ylabel='Cost',\n",
        "       title='Cost Value vs. Iteration')\n",
        "ax.grid()\n",
        "\n",
        "plt.show()"
      ],
      "execution_count": 0,
      "outputs": [
        {
          "output_type": "display_data",
          "data": {
            "image/png": "[encoded data removed]",
            "text/plain": [
              "<Figure size 576x396 with 1 Axes>"
            ]
          },
          "metadata": {
            "tags": []
          }
        }
      ]
    },
    {
      "metadata": {
        "id": "3dM1uSTWgimd",
        "colab_type": "code",
        "outputId": "091355f3-c4d1-4564-cec5-a93687435446",
        "colab": {
          "base_uri": "https://localhost:8080/",
          "height": 376
        }
      },
      "cell_type": "code",
      "source": [
        "fig, ax = plt.subplots()\n",
        "ax.plot([i for i in range(0,len(training_accu),1000)], training_accu[::1000])\n",
        "\n",
        "ax.set(xlabel='Iteration', ylabel='Accuracy',\n",
        "       title='Accuracy vs. Iteration')\n",
        "ax.grid()\n",
        "\n",
        "plt.show()"
      ],
      "execution_count": 0,
      "outputs": [
        {
          "output_type": "display_data",
          "data": {
            "image/png": "[encoded data removed]",
            "text/plain": [
              "<Figure size 576x396 with 1 Axes>"
            ]
          },
          "metadata": {
            "tags": []
          }
        }
      ]
    },
    {
      "metadata": {
        "id": "eIpC9a1OaBVE",
        "colab_type": "text"
      },
      "cell_type": "markdown",
      "source": [
        "### Check Validation Accuracy"
      ]
    },
    {
      "metadata": {
        "id": "d1-v1BJob3VJ",
        "colab_type": "code",
        "outputId": "5e355302-d012-40de-82ff-ae5e89033bdd",
        "colab": {
          "base_uri": "https://localhost:8080/",
          "height": 35
        }
      },
      "cell_type": "code",
      "source": [
        "Y_hat, cache = NN.forwardPropagation(X_val.T, {})\n",
        "validation_accuracy = NN.accuracy_rate(Y_hat, Y_val)\n",
        "print(f\"The validation accuracy is:{validation_accuracy}\")"
      ],
      "execution_count": 0,
      "outputs": [
        {
          "output_type": "stream",
          "text": [
            "The validation accuracy is:0.502\n"
          ],
          "name": "stdout"
        }
      ]
    },
    {
      "metadata": {
        "id": "8nyQNnwrafvU",
        "colab_type": "text"
      },
      "cell_type": "markdown",
      "source": [
        "### Check Test Set Accuracy"
      ]
    },
    {
      "metadata": {
        "id": "NXibl1lXa2Oh",
        "colab_type": "code",
        "outputId": "40caf1b5-b43f-4ba8-fe3c-7c7575033ab8",
        "colab": {
          "base_uri": "https://localhost:8080/",
          "height": 35
        }
      },
      "cell_type": "code",
      "source": [
        "Y_hat, cache = NN.forwardPropagation(X_test.T, {})\n",
        "test_accuracy = NN.accuracy_rate(Y_hat, Y_test)\n",
        "print(f\"The testing accuracy is {test_accuracy}\")"
      ],
      "execution_count": 0,
      "outputs": [
        {
          "output_type": "stream",
          "text": [
            "The testing accuracy is 0.4894\n"
          ],
          "name": "stdout"
        }
      ]
    },
    {
      "metadata": {
        "id": "-Hg-iQ6UhMcm",
        "colab_type": "text"
      },
      "cell_type": "markdown",
      "source": [
        "## 1.3 Predict Item from Test Set"
      ]
    },
    {
      "metadata": {
        "id": "rzZiApLVbeKB",
        "colab_type": "text"
      },
      "cell_type": "markdown",
      "source": [
        "###Get Model Predictions for 5 Items"
      ]
    },
    {
      "metadata": {
        "id": "9aG6MKTYbbbN",
        "colab_type": "code",
        "colab": {}
      },
      "cell_type": "code",
      "source": [
        "item_predictions = NN.predict(X_test[:5].T)"
      ],
      "execution_count": 0,
      "outputs": []
    },
    {
      "metadata": {
        "id": "pG9cAOMvcLAV",
        "colab_type": "text"
      },
      "cell_type": "markdown",
      "source": [
        "### Print Images and See predictions for Each"
      ]
    },
    {
      "metadata": {
        "id": "RvsiKbvFcPtd",
        "colab_type": "code",
        "colab": {}
      },
      "cell_type": "code",
      "source": [
        "import matplotlib.pyplot as plt\n",
        "\n",
        "legend = {0:\"airplane\", 1:\"automobile\", 2: \"bird\", 3: \"cat\", 4: \"deer\", 5: \"dog\", 6: \"frog\", 7: \"horse\", 8: \"ship\", 9: \"truck\"}\n",
        "\n",
        "def imshow(img):\n",
        "  img = img / 2 + 0.5 # unnormalize\n",
        "  npimg = img.numpy() \n",
        "  plt.imshow(np.transpose(npimg, (1, 2, 0)))\n"
      ],
      "execution_count": 0,
      "outputs": []
    },
    {
      "metadata": {
        "id": "le1QH9KxcUhl",
        "colab_type": "code",
        "outputId": "08f5190c-647a-4fe4-f752-5cbe756daefc",
        "colab": {
          "base_uri": "https://localhost:8080/",
          "height": 382
        }
      },
      "cell_type": "code",
      "source": [
        "imshow(testset[0][0])\n",
        "print(f\"The image is that of a {legend[Y_test[0]]}\")\n",
        "print(f\"The model predicted that is {legend[item_predictions[0]]}\")"
      ],
      "execution_count": 0,
      "outputs": [
        {
          "output_type": "stream",
          "text": [
            "The image is that of a cat\n",
            "The model predicted that is cat\n"
          ],
          "name": "stdout"
        },
        {
          "output_type": "display_data",
          "data": {
            "image/png": "[encoded data removed]",
            "text/plain": [
              "<Figure size 576x396 with 1 Axes>"
            ]
          },
          "metadata": {
            "tags": []
          }
        }
      ]
    },
    {
      "metadata": {
        "id": "SJKUtBI9cZUP",
        "colab_type": "code",
        "outputId": "5f03beff-ae4b-4935-c758-f2201d52e28c",
        "colab": {
          "base_uri": "https://localhost:8080/",
          "height": 382
        }
      },
      "cell_type": "code",
      "source": [
        "imshow(testset[1][0])\n",
        "print(f\"The image is that of a {legend[Y_test[1]]}\")\n",
        "print(f\"The model predicted that is {legend[item_predictions[1]]}\")"
      ],
      "execution_count": 0,
      "outputs": [
        {
          "output_type": "stream",
          "text": [
            "The image is that of a ship\n",
            "The model predicted that is ship\n"
          ],
          "name": "stdout"
        },
        {
          "output_type": "display_data",
          "data": {
            "image/png": "[encoded data removed]",
            "text/plain": [
              "<Figure size 576x396 with 1 Axes>"
            ]
          },
          "metadata": {
            "tags": []
          }
        }
      ]
    },
    {
      "metadata": {
        "id": "4s8mb61OcZEE",
        "colab_type": "code",
        "outputId": "5a2360d5-775e-48dd-f9eb-85b11ecde29c",
        "colab": {
          "base_uri": "https://localhost:8080/",
          "height": 382
        }
      },
      "cell_type": "code",
      "source": [
        "imshow(testset[2][0])\n",
        "print(f\"The image is that of a {legend[Y_test[2]]}\")\n",
        "print(f\"The model predicted that is {legend[item_predictions[2]]}\")"
      ],
      "execution_count": 0,
      "outputs": [
        {
          "output_type": "stream",
          "text": [
            "The image is that of a ship\n",
            "The model predicted that is airplane\n"
          ],
          "name": "stdout"
        },
        {
          "output_type": "display_data",
          "data": {
            "image/png": "[encoded data removed]",
            "text/plain": [
              "<Figure size 576x396 with 1 Axes>"
            ]
          },
          "metadata": {
            "tags": []
          }
        }
      ]
    },
    {
      "metadata": {
        "id": "RJg3rHlAcYxI",
        "colab_type": "code",
        "outputId": "24dd62d7-a4f7-4592-d456-3ab02989437e",
        "colab": {
          "base_uri": "https://localhost:8080/",
          "height": 382
        }
      },
      "cell_type": "code",
      "source": [
        "imshow(testset[3][0])\n",
        "print(f\"The image is that of a {legend[Y_test[3]]}\")\n",
        "print(f\"The model predicted that is {legend[item_predictions[3]]}\")"
      ],
      "execution_count": 0,
      "outputs": [
        {
          "output_type": "stream",
          "text": [
            "The image is that of a airplane\n",
            "The model predicted that is airplane\n"
          ],
          "name": "stdout"
        },
        {
          "output_type": "display_data",
          "data": {
            "image/png": "[encoded data removed]",
            "text/plain": [
              "<Figure size 576x396 with 1 Axes>"
            ]
          },
          "metadata": {
            "tags": []
          }
        }
      ]
    },
    {
      "metadata": {
        "id": "wsL36m0fcYkZ",
        "colab_type": "code",
        "outputId": "f7a171d5-0e4c-46eb-8cc7-cbeeb66a7dc0",
        "colab": {
          "base_uri": "https://localhost:8080/",
          "height": 382
        }
      },
      "cell_type": "code",
      "source": [
        "imshow(testset[4][0])\n",
        "print(f\"The image is that of a {legend[Y_test[4]]}\")\n",
        "print(f\"The model predicted that is {legend[item_predictions[4]]}\")"
      ],
      "execution_count": 0,
      "outputs": [
        {
          "output_type": "stream",
          "text": [
            "The image is that of a frog\n",
            "The model predicted that is deer\n"
          ],
          "name": "stdout"
        },
        {
          "output_type": "display_data",
          "data": {
            "image/png": "[encoded data removed]",
            "text/plain": [
              "<Figure size 576x396 with 1 Axes>"
            ]
          },
          "metadata": {
            "tags": []
          }
        }
      ]
    },
    {
      "metadata": {
        "id": "FJZ6FVcXgLKY",
        "colab_type": "text"
      },
      "cell_type": "markdown",
      "source": [
        "# **Part 2**"
      ]
    },
    {
      "metadata": {
        "id": "dCuqJWlVkRzE",
        "colab_type": "code",
        "colab": {}
      },
      "cell_type": "code",
      "source": [
        "import numpy as np\n",
        "import torch\n",
        "import torch.nn as nn\n",
        "import torch.nn.functional as F\n",
        "import torch.optim as optim\n",
        "import torchvision\n",
        "import torchvision.transforms as transforms"
      ],
      "execution_count": 0,
      "outputs": []
    },
    {
      "metadata": {
        "id": "OeEyFM_ugJ01",
        "colab_type": "code",
        "colab": {}
      },
      "cell_type": "code",
      "source": [
        "transform = torchvision.transforms.Compose(\n",
        "    [torchvision.transforms.ToTensor(),\n",
        "     torchvision.transforms.Normalize((0.5,0.5,0.5), (0.5,0.5,0.5))])\n",
        "\n",
        "testset = torchvision.datasets.CIFAR10(root='./data', train=False,download=False, transform=transform)\n",
        "trainvalset = torchvision.datasets.CIFAR10(root='./data', train=True,download=False, transform=transform)\n",
        "trainset, valset = torch.utils.data.random_split(trainvalset, [45000, 5000]) # 10% for validation"
      ],
      "execution_count": 0,
      "outputs": []
    },
    {
      "metadata": {
        "id": "JcBVjGE2gbB6",
        "colab_type": "code",
        "colab": {}
      },
      "cell_type": "code",
      "source": [
        "trainloader = torch.utils.data.DataLoader(trainset, batch_size=50, shuffle=True)\n",
        "testloader = torch.utils.data.DataLoader(testset, batch_size=1000, shuffle=False)\n",
        "valloader = torch.utils.data.DataLoader(valset, batch_size=1000, shuffle=False)"
      ],
      "execution_count": 0,
      "outputs": []
    },
    {
      "metadata": {
        "id": "dBzaTr2WzEvS",
        "colab_type": "text"
      },
      "cell_type": "markdown",
      "source": [
        "**First Model** - Basic CNN (adapted from PyTorch tutorial)"
      ]
    },
    {
      "metadata": {
        "id": "PRzxAXkrvtkn",
        "colab_type": "code",
        "colab": {}
      },
      "cell_type": "code",
      "source": [
        "# This is basically the same model as the one used in the PyTorch Tutorial, applied to the CIFAR10 dataset\n",
        "class CIFAR10_Model(nn.Module):\n",
        "    def __init__(self):\n",
        "        super(CIFAR10_Model, self).__init__()\n",
        "        # input is 32x32x3\n",
        "        # padding=2, same int used for height and width dimension\n",
        "        self.conv1 = nn.Conv2d(3, 32, 5, padding=2)        \n",
        "        self.conv2 = nn.Conv2d(32, 64, 5, padding=2)\n",
        "        self.fc1 = nn.Linear(64*8*8, 1024)\n",
        "        self.fc2 = nn.Linear(1024, 10)\n",
        "        \n",
        "    def forward(self, x):\n",
        "        x = F.max_pool2d(F.relu(self.conv1(x)), 2)\n",
        "        x = F.max_pool2d(F.relu(self.conv2(x)), 2)\n",
        "        x = x.view(-1, 64*8*8) # reshape before sending to fc layer\n",
        "        x = F.relu(self.fc1(x))\n",
        "        x = F.dropout(x, training=self.training) # default p= 0.5\n",
        "        x = self.fc2(x)\n",
        "        return F.log_softmax(x)"
      ],
      "execution_count": 0,
      "outputs": []
    },
    {
      "metadata": {
        "id": "ts-MEeRXvtgy",
        "colab_type": "code",
        "outputId": "b212b2ed-1cf2-4458-e6fd-0c2cd9b3e4e7",
        "colab": {
          "base_uri": "https://localhost:8080/",
          "height": 126
        }
      },
      "cell_type": "code",
      "source": [
        "model = CIFAR10_Model()\n",
        "print(model)\n",
        "\n",
        "optimizer = optim.SGD(model.parameters(), lr=0.01, momentum=0.9)"
      ],
      "execution_count": 0,
      "outputs": [
        {
          "output_type": "stream",
          "text": [
            "CIFAR10_Model(\n",
            "  (conv1): Conv2d(3, 32, kernel_size=(5, 5), stride=(1, 1), padding=(2, 2))\n",
            "  (conv2): Conv2d(32, 64, kernel_size=(5, 5), stride=(1, 1), padding=(2, 2))\n",
            "  (fc1): Linear(in_features=4096, out_features=1024, bias=True)\n",
            "  (fc2): Linear(in_features=1024, out_features=10, bias=True)\n",
            ")\n"
          ],
          "name": "stdout"
        }
      ]
    },
    {
      "metadata": {
        "id": "JWRo4eExvteV",
        "colab_type": "code",
        "outputId": "3c340902-974c-4e75-a43c-180df55718e6",
        "colab": {
          "base_uri": "https://localhost:8080/",
          "height": 310
        }
      },
      "cell_type": "code",
      "source": [
        "batch_size = 50\n",
        "\n",
        "# send model to GPU\n",
        "model.cuda()\n",
        "\n",
        "model.train() # to set train mode for drop out\n",
        "train_loss, train_accu = [], []\n",
        "i = 0\n",
        "for epoch in range(15):\n",
        "    for images, labels in trainloader:\n",
        "        # send tensors to GPU\n",
        "        images, labels = images.cuda(), labels.cuda()\n",
        "        \n",
        "        optimizer.zero_grad()               # zero the parameter gradients\n",
        "        outputs = model(images)             # calls the forward function of model, i.e. model.forward(images)\n",
        "        loss = F.nll_loss(outputs, labels)  # calculate loss\n",
        "        loss.backward()                     # calculate gradients\n",
        "        train_loss.append(loss.item())\n",
        "        optimizer.step()                    # update learnable parameters\n",
        "        predictions = outputs.data.max(1)[1]# column at idx 1 has actual prob.  \n",
        "        \n",
        "        # send tensors back to CPU because numpy ops don't support GPU.\n",
        "        accuracy = np.sum(predictions.cpu().numpy()==labels.cpu().numpy())/batch_size*100\n",
        "        train_accu.append(accuracy)\n",
        "        if i % 1000 == 0:\n",
        "            print('Train Step: {}\\tLoss: {:.3f}\\tAccuracy: {:.3f}'.format(i, loss.item(), accuracy))\n",
        "        i += 1"
      ],
      "execution_count": 0,
      "outputs": [
        {
          "output_type": "stream",
          "text": [
            "/usr/local/lib/python3.6/dist-packages/ipykernel_launcher.py:18: UserWarning: Implicit dimension choice for log_softmax has been deprecated. Change the call to include dim=X as an argument.\n"
          ],
          "name": "stderr"
        },
        {
          "output_type": "stream",
          "text": [
            "Train Step: 0\tLoss: 2.303\tAccuracy: 6.000\n",
            "Train Step: 1000\tLoss: 1.240\tAccuracy: 56.000\n",
            "Train Step: 2000\tLoss: 0.761\tAccuracy: 76.000\n",
            "Train Step: 3000\tLoss: 0.638\tAccuracy: 76.000\n",
            "Train Step: 4000\tLoss: 0.362\tAccuracy: 84.000\n",
            "Train Step: 5000\tLoss: 0.651\tAccuracy: 76.000\n",
            "Train Step: 6000\tLoss: 0.295\tAccuracy: 90.000\n",
            "Train Step: 7000\tLoss: 0.238\tAccuracy: 92.000\n",
            "Train Step: 8000\tLoss: 0.476\tAccuracy: 88.000\n",
            "Train Step: 9000\tLoss: 0.133\tAccuracy: 94.000\n",
            "Train Step: 10000\tLoss: 0.110\tAccuracy: 94.000\n",
            "Train Step: 11000\tLoss: 0.099\tAccuracy: 96.000\n",
            "Train Step: 12000\tLoss: 0.274\tAccuracy: 92.000\n",
            "Train Step: 13000\tLoss: 0.210\tAccuracy: 98.000\n"
          ],
          "name": "stdout"
        }
      ]
    },
    {
      "metadata": {
        "id": "obQBcJHtvta2",
        "colab_type": "code",
        "outputId": "10a427ea-41ee-4801-c3fb-6302e5b0a82d",
        "colab": {
          "base_uri": "https://localhost:8080/",
          "height": 92
        }
      },
      "cell_type": "code",
      "source": [
        "model.eval()\n",
        "correct = 0\n",
        "for images, labels in testloader:\n",
        "    with torch.no_grad(): # so that computation graph history is not stored\n",
        "        images, labels = images.cuda(), labels.cuda() # send tensors to GPU\n",
        "        outputs = model(images)\n",
        "        predictions = outputs.data.max(1)[1]\n",
        "        correct += predictions.eq(labels.data).sum()\n",
        "print(correct)\n",
        "print('Test set accuracy: {:.2f}%'.format(100.0 * correct / len(testloader.dataset)))"
      ],
      "execution_count": 0,
      "outputs": [
        {
          "output_type": "stream",
          "text": [
            "/usr/local/lib/python3.6/dist-packages/ipykernel_launcher.py:18: UserWarning: Implicit dimension choice for log_softmax has been deprecated. Change the call to include dim=X as an argument.\n"
          ],
          "name": "stderr"
        },
        {
          "output_type": "stream",
          "text": [
            "tensor(7494, device='cuda:0')\n",
            "Test set accuracy: 74.00%\n"
          ],
          "name": "stdout"
        }
      ]
    },
    {
      "metadata": {
        "id": "YEaJa0tZvtXR",
        "colab_type": "code",
        "outputId": "b3e5900a-1baf-4656-9263-c7307644726f",
        "colab": {
          "base_uri": "https://localhost:8080/",
          "height": 92
        }
      },
      "cell_type": "code",
      "source": [
        "correct = 0\n",
        "for images, labels in valloader:\n",
        "    with torch.no_grad(): # so that computation graph history is not stored\n",
        "        images, labels = images.cuda(), labels.cuda() # send tensors to GPU\n",
        "        outputs = model(images)\n",
        "        predictions = outputs.data.max(1)[1]\n",
        "        correct += predictions.eq(labels.data).sum()\n",
        "\n",
        "print(correct)\n",
        "print('Validation set accuracy: {:.2f}%'.format(100.0 * correct / len(valloader.dataset)))"
      ],
      "execution_count": 0,
      "outputs": [
        {
          "output_type": "stream",
          "text": [
            "/usr/local/lib/python3.6/dist-packages/ipykernel_launcher.py:18: UserWarning: Implicit dimension choice for log_softmax has been deprecated. Change the call to include dim=X as an argument.\n"
          ],
          "name": "stderr"
        },
        {
          "output_type": "stream",
          "text": [
            "tensor(3754, device='cuda:0')\n",
            "Validation set accuracy: 75.00%\n"
          ],
          "name": "stdout"
        }
      ]
    },
    {
      "metadata": {
        "id": "rA-mpI-_1Vx_",
        "colab_type": "code",
        "colab": {}
      },
      "cell_type": "code",
      "source": [
        "import matplotlib.pyplot as plt\n",
        "\n",
        "def imshow(img):\n",
        "    img = img / 2 + 0.5\n",
        "    npimg = img.numpy()\n",
        "    plt.imshow(np.transpose(npimg,(1, 2, 0)))\n"
      ],
      "execution_count": 0,
      "outputs": []
    },
    {
      "metadata": {
        "id": "5USbg98MvtRh",
        "colab_type": "code",
        "colab": {}
      },
      "cell_type": "code",
      "source": [
        "legend = {0:\"airplane\", 1:\"automobile\", 2: \"bird\", 3: \"cat\", 4: \"deer\", 5: \"dog\", 6: \"frog\", 7: \"horse\", 8: \"ship\", 9: \"truck\"}\n",
        "test_images = [testloader.dataset test_data[i] for i in range(len(testset))]\n",
        "test_labels = testloader.dataset.test_labels"
      ],
      "execution_count": 0,
      "outputs": []
    },
    {
      "metadata": {
        "id": "CTJS0FJmzNp_",
        "colab_type": "text"
      },
      "cell_type": "markdown",
      "source": [
        ""
      ]
    },
    {
      "metadata": {
        "id": "G7ClxTPu3va2",
        "colab_type": "code",
        "outputId": "9f3d64db-ecba-46d5-f38a-f5c42e7a0bb1",
        "colab": {
          "base_uri": "https://localhost:8080/",
          "height": 55
        }
      },
      "cell_type": "code",
      "source": [
        "pred = []\n",
        "lab = []\n",
        "for images, labels in testloader:\n",
        "    with torch.no_grad(): # so that computation graph history is not stored\n",
        "        images, labels = images.cuda(), labels.cuda() # send tensors to GPU\n",
        "        outputs = model(images)\n",
        "        predictions = outputs.data.max(1)[1]\n",
        "        p = predictions.cpu().numpy()\n",
        "        l = labels.cpu().numpy()\n",
        "        for i in range(p.shape[0]):\n",
        "            pred.append(p[i])\n",
        "            lab.append(l[i])"
      ],
      "execution_count": 0,
      "outputs": [
        {
          "output_type": "stream",
          "text": [
            "/usr/local/lib/python3.6/dist-packages/ipykernel_launcher.py:18: UserWarning: Implicit dimension choice for log_softmax has been deprecated. Change the call to include dim=X as an argument.\n"
          ],
          "name": "stderr"
        }
      ]
    },
    {
      "metadata": {
        "id": "Sjz8-3F93vWv",
        "colab_type": "code",
        "outputId": "e24a4ec1-67c7-4511-e89d-11a461509600",
        "colab": {
          "base_uri": "https://localhost:8080/",
          "height": 35
        }
      },
      "cell_type": "code",
      "source": [
        "def test(i):\n",
        "    imshow(testset[i][0])\n",
        "    print(\"prediction:\", legend[pred[i]])\n",
        "    print(\"label:\", legend[lab[i]])\n",
        "\n",
        "ll = [i for i in range(10000) if legend[pred[i]] != legend[lab[i]]]\n",
        "print(ll[:10])"
      ],
      "execution_count": 0,
      "outputs": [
        {
          "output_type": "stream",
          "text": [
            "[8, 12, 21, 24, 32, 33, 35, 37, 42, 47]\n"
          ],
          "name": "stdout"
        }
      ]
    },
    {
      "metadata": {
        "id": "L1DTyJY93vO5",
        "colab_type": "code",
        "outputId": "d92be532-807b-4a43-8667-52480cc9e24b",
        "colab": {
          "base_uri": "https://localhost:8080/",
          "height": 384
        }
      },
      "cell_type": "code",
      "source": [
        "test(578)"
      ],
      "execution_count": 0,
      "outputs": [
        {
          "output_type": "stream",
          "text": [
            "prediction: horse\n",
            "label: horse\n"
          ],
          "name": "stdout"
        },
        {
          "output_type": "display_data",
          "data": {
            "image/png": "[encoded data removed]",
            "text/plain": [
              "<Figure size 576x396 with 1 Axes>"
            ]
          },
          "metadata": {
            "tags": []
          }
        }
      ]
    },
    {
      "metadata": {
        "id": "E1pxbrwn8_9I",
        "colab_type": "code",
        "outputId": "a2b58bb6-603e-4335-802e-a870b222e705",
        "colab": {
          "base_uri": "https://localhost:8080/",
          "height": 384
        }
      },
      "cell_type": "code",
      "source": [
        "test(37)"
      ],
      "execution_count": 0,
      "outputs": [
        {
          "output_type": "stream",
          "text": [
            "prediction: truck\n",
            "label: automobile\n"
          ],
          "name": "stdout"
        },
        {
          "output_type": "display_data",
          "data": {
            "image/png": "[encoded data removed]",
            "text/plain": [
              "<Figure size 576x396 with 1 Axes>"
            ]
          },
          "metadata": {
            "tags": []
          }
        }
      ]
    },
    {
      "metadata": {
        "id": "WefQDXD79_Z0",
        "colab_type": "code",
        "outputId": "b890e019-197e-45e9-84b6-561795b5f83e",
        "colab": {
          "base_uri": "https://localhost:8080/",
          "height": 384
        }
      },
      "cell_type": "code",
      "source": [
        "test(21)"
      ],
      "execution_count": 0,
      "outputs": [
        {
          "output_type": "stream",
          "text": [
            "prediction: bird\n",
            "label: airplane\n"
          ],
          "name": "stdout"
        },
        {
          "output_type": "display_data",
          "data": {
            "image/png": "[encoded data removed]",
            "text/plain": [
              "<Figure size 576x396 with 1 Axes>"
            ]
          },
          "metadata": {
            "tags": []
          }
        }
      ]
    },
    {
      "metadata": {
        "id": "V-m_PNzx9_NL",
        "colab_type": "code",
        "outputId": "4e505ec9-2a63-45a4-85dd-2fe47d6a6baa",
        "colab": {
          "base_uri": "https://localhost:8080/",
          "height": 384
        }
      },
      "cell_type": "code",
      "source": [
        "test(42)"
      ],
      "execution_count": 0,
      "outputs": [
        {
          "output_type": "stream",
          "text": [
            "prediction: cat\n",
            "label: dog\n"
          ],
          "name": "stdout"
        },
        {
          "output_type": "display_data",
          "data": {
            "image/png": "[encoded data removed]",
            "text/plain": [
              "<Figure size 576x396 with 1 Axes>"
            ]
          },
          "metadata": {
            "tags": []
          }
        }
      ]
    },
    {
      "metadata": {
        "id": "fIt0sLenvtE1",
        "colab_type": "code",
        "outputId": "3b24155d-bc8b-408b-c02e-1286a9283ccb",
        "colab": {
          "base_uri": "https://localhost:8080/",
          "height": 384
        }
      },
      "cell_type": "code",
      "source": [
        "test(47)"
      ],
      "execution_count": 0,
      "outputs": [
        {
          "output_type": "stream",
          "text": [
            "prediction: bird\n",
            "label: truck\n"
          ],
          "name": "stdout"
        },
        {
          "output_type": "display_data",
          "data": {
            "image/png": "[encoded data removed]",
            "text/plain": [
              "<Figure size 576x396 with 1 Axes>"
            ]
          },
          "metadata": {
            "tags": []
          }
        }
      ]
    },
    {
      "metadata": {
        "id": "Clehqi0T-Vf1",
        "colab_type": "code",
        "outputId": "466eb150-3705-4af3-95db-1f4b3f37bc11",
        "colab": {
          "base_uri": "https://localhost:8080/",
          "height": 384
        }
      },
      "cell_type": "code",
      "source": [
        "test(2019)"
      ],
      "execution_count": 0,
      "outputs": [
        {
          "output_type": "stream",
          "text": [
            "prediction: truck\n",
            "label: truck\n"
          ],
          "name": "stdout"
        },
        {
          "output_type": "display_data",
          "data": {
            "image/png": "[encoded data removed]",
            "text/plain": [
              "<Figure size 576x396 with 1 Axes>"
            ]
          },
          "metadata": {
            "tags": []
          }
        }
      ]
    },
    {
      "metadata": {
        "id": "HsjEHXdR-Vbb",
        "colab_type": "code",
        "outputId": "ef7a4111-b2e1-43f4-f98e-abe4b94ec478",
        "colab": {
          "base_uri": "https://localhost:8080/",
          "height": 384
        }
      },
      "cell_type": "code",
      "source": [
        "test(33)"
      ],
      "execution_count": 0,
      "outputs": [
        {
          "output_type": "stream",
          "text": [
            "prediction: bird\n",
            "label: dog\n"
          ],
          "name": "stdout"
        },
        {
          "output_type": "display_data",
          "data": {
            "image/png": "[encoded data removed]",
            "text/plain": [
              "<Figure size 576x396 with 1 Axes>"
            ]
          },
          "metadata": {
            "tags": []
          }
        }
      ]
    },
    {
      "metadata": {
        "id": "8YattBPP-VUA",
        "colab_type": "code",
        "outputId": "705d3473-d7c4-44e6-dd56-65ddef840af4",
        "colab": {
          "base_uri": "https://localhost:8080/",
          "height": 384
        }
      },
      "cell_type": "code",
      "source": [
        "test(36)"
      ],
      "execution_count": 0,
      "outputs": [
        {
          "output_type": "stream",
          "text": [
            "prediction: deer\n",
            "label: deer\n"
          ],
          "name": "stdout"
        },
        {
          "output_type": "display_data",
          "data": {
            "image/png": "[encoded data removed]",
            "text/plain": [
              "<Figure size 576x396 with 1 Axes>"
            ]
          },
          "metadata": {
            "tags": []
          }
        }
      ]
    },
    {
      "metadata": {
        "id": "ik-RrnHI-UK8",
        "colab_type": "code",
        "colab": {}
      },
      "cell_type": "code",
      "source": [
        "class CIFAR10_Model(nn.Module):\n",
        "    def __init__(self):\n",
        "        super(CIFAR10_Model, self).__init__()\n",
        "        # input is 3x32x32\n",
        "        # padding=2, same int used for height and width dimension\n",
        "        self.conv1 = nn.Conv2d(3, 64, 5, padding=2)\n",
        "        self.conv2 = nn.Conv2d(64, 128, 5, padding=2)\n",
        "        self.conv3 = nn.Conv2d(128, 256, 5, padding=2)\n",
        "        self.conv4 = nn.Conv2d(256, 512, 5, padding=2)\n",
        "        \n",
        "        self.bn1 = nn.BatchNorm2d(64)\n",
        "        self.bn2 = nn.BatchNorm2d(128)\n",
        "        self.bn3 = nn.BatchNorm2d(256)\n",
        "        self.bn4 = nn.BatchNorm2d(512)\n",
        "        \n",
        "        self.fc1 = nn.Linear(512*2*2, 512)\n",
        "        self.fc2 = nn.Linear(512, 1024)\n",
        "        self.fc3 = nn.Linear(1024, 2048)\n",
        "        self.fc4 = nn.Linear(2048,10)\n",
        "        \n",
        "        self.bn11 = nn.BatchNorm1d(num_features=512)\n",
        "        self.bn12 = nn.BatchNorm1d(num_features=1024)\n",
        "        self.bn13 = nn.BatchNorm1d(num_features=2048)\n",
        "        \n",
        "    def forward(self, x):\n",
        "        x = F.max_pool2d(F.relu(self.conv1(x)), 2)\n",
        "        x = self.bn1(x)\n",
        "        x = F.max_pool2d(F.relu(self.conv2(x)), 2)\n",
        "        x = self.bn2(x)\n",
        "        x = F.max_pool2d(F.relu(self.conv3(x)), 2)\n",
        "        x = self.bn3(x)\n",
        "        x = F.max_pool2d(F.relu(self.conv4(x)), 2)\n",
        "        x = self.bn4(x)\n",
        "        \n",
        "        x = x.view(-1, 512*2*2) # reshape before sending to fc layer\n",
        "        x = F.relu(self.fc1(x))\n",
        "        x = self.bn11(x)\n",
        "        x = F.relu(self.fc2(x))\n",
        "        x = self.bn12(x)\n",
        "        x = F.relu(self.fc3(x))\n",
        "        x = self.bn13(x)\n",
        "        x = F.dropout(x, training=self.training)\n",
        "        \n",
        "        x = self.fc4(x)\n",
        "        \n",
        "        return F.log_softmax(x)"
      ],
      "execution_count": 0,
      "outputs": []
    },
    {
      "metadata": {
        "id": "YiFZZXT3l_rI",
        "colab_type": "code",
        "outputId": "f18479e9-06c4-42c1-91d2-17e978c5facb",
        "colab": {
          "base_uri": "https://localhost:8080/",
          "height": 326
        }
      },
      "cell_type": "code",
      "source": [
        "model = CIFAR10_Model()\n",
        "print(model)\n",
        "\n",
        "optimizer = optim.SGD(model.parameters(), lr=0.01, momentum=0.9)"
      ],
      "execution_count": 0,
      "outputs": [
        {
          "output_type": "stream",
          "text": [
            "CIFAR10_Model(\n",
            "  (conv1): Conv2d(3, 64, kernel_size=(5, 5), stride=(1, 1), padding=(2, 2))\n",
            "  (conv2): Conv2d(64, 128, kernel_size=(5, 5), stride=(1, 1), padding=(2, 2))\n",
            "  (conv3): Conv2d(128, 256, kernel_size=(5, 5), stride=(1, 1), padding=(2, 2))\n",
            "  (conv4): Conv2d(256, 512, kernel_size=(5, 5), stride=(1, 1), padding=(2, 2))\n",
            "  (bn1): BatchNorm2d(64, eps=1e-05, momentum=0.1, affine=True, track_running_stats=True)\n",
            "  (bn2): BatchNorm2d(128, eps=1e-05, momentum=0.1, affine=True, track_running_stats=True)\n",
            "  (bn3): BatchNorm2d(256, eps=1e-05, momentum=0.1, affine=True, track_running_stats=True)\n",
            "  (bn4): BatchNorm2d(512, eps=1e-05, momentum=0.1, affine=True, track_running_stats=True)\n",
            "  (fc1): Linear(in_features=2048, out_features=512, bias=True)\n",
            "  (fc2): Linear(in_features=512, out_features=1024, bias=True)\n",
            "  (fc3): Linear(in_features=1024, out_features=2048, bias=True)\n",
            "  (fc4): Linear(in_features=2048, out_features=10, bias=True)\n",
            "  (bn11): BatchNorm1d(512, eps=1e-05, momentum=0.1, affine=True, track_running_stats=True)\n",
            "  (bn12): BatchNorm1d(1024, eps=1e-05, momentum=0.1, affine=True, track_running_stats=True)\n",
            "  (bn13): BatchNorm1d(2048, eps=1e-05, momentum=0.1, affine=True, track_running_stats=True)\n",
            ")\n"
          ],
          "name": "stdout"
        }
      ]
    },
    {
      "metadata": {
        "id": "iGtXWBkFl_2j",
        "colab_type": "code",
        "outputId": "64361ae0-9858-473c-a944-1ccd063912f9",
        "colab": {
          "base_uri": "https://localhost:8080/",
          "height": 563
        }
      },
      "cell_type": "code",
      "source": [
        "batch_size = 50\n",
        "\n",
        "# send model to GPU\n",
        "model.cuda()\n",
        "\n",
        "model.train() # to set train mode for drop out\n",
        "train_loss, train_accu = [], []\n",
        "i = 0\n",
        "for epoch in range(15):\n",
        "    print(\"epoch: \", epoch+1)\n",
        "    for images, labels in trainloader:\n",
        "        # send tensors to GPU\n",
        "        images, labels = images.cuda(), labels.cuda()\n",
        "        \n",
        "        optimizer.zero_grad()               # zero the parameter gradients\n",
        "        outputs = model(images)            # calls the forward function of model, i.e. model.forward(images)\n",
        "        loss = F.nll_loss(outputs, labels)  # calculate loss\n",
        "        loss.backward()                     # calculate gradients\n",
        "        train_loss.append(loss.item())\n",
        "        optimizer.step()                    # update learnable parameters\n",
        "        predictions = outputs.data.max(1)[1]# column at idx 1 has actual prob.  \n",
        "        \n",
        "        # send tensors back to CPU because numpy ops don't support GPU.\n",
        "        # accuracy = np.sum(predictions.cpu().numpy()==labels.cpu().numpy())/batch_size*100\n",
        "        p = predictions.cpu().numpy()\n",
        "        l = labels.cpu().numpy()\n",
        "        # print(p,l)\n",
        "        accuracy = np.sum(p==l)/batch_size*100\n",
        "        \n",
        "        train_accu.append(accuracy)\n",
        "        if i % 1000 == 0:\n",
        "            print('Train Step: {}\\tLoss: {:.3f}\\tAccuracy: {:.3f}'.format(i, loss.item(), accuracy))\n",
        "        i += 1"
      ],
      "execution_count": 0,
      "outputs": [
        {
          "output_type": "stream",
          "text": [
            "epoch:  1\n",
            "Train Step: 0\tLoss: 2.395\tAccuracy: 12.000\n"
          ],
          "name": "stdout"
        },
        {
          "output_type": "stream",
          "text": [
            "/usr/local/lib/python3.6/dist-packages/ipykernel_launcher.py:46: UserWarning: Implicit dimension choice for log_softmax has been deprecated. Change the call to include dim=X as an argument.\n"
          ],
          "name": "stderr"
        },
        {
          "output_type": "stream",
          "text": [
            "epoch:  2\n",
            "Train Step: 1000\tLoss: 1.301\tAccuracy: 52.000\n",
            "epoch:  3\n",
            "Train Step: 2000\tLoss: 1.183\tAccuracy: 70.000\n",
            "epoch:  4\n",
            "Train Step: 3000\tLoss: 0.663\tAccuracy: 82.000\n",
            "epoch:  5\n",
            "Train Step: 4000\tLoss: 0.583\tAccuracy: 80.000\n",
            "epoch:  6\n",
            "Train Step: 5000\tLoss: 0.305\tAccuracy: 92.000\n",
            "epoch:  7\n",
            "Train Step: 6000\tLoss: 0.409\tAccuracy: 86.000\n",
            "epoch:  8\n",
            "Train Step: 7000\tLoss: 0.463\tAccuracy: 86.000\n",
            "epoch:  9\n",
            "Train Step: 8000\tLoss: 0.106\tAccuracy: 98.000\n",
            "epoch:  10\n",
            "epoch:  11\n",
            "Train Step: 9000\tLoss: 0.039\tAccuracy: 100.000\n",
            "epoch:  12\n",
            "Train Step: 10000\tLoss: 0.057\tAccuracy: 98.000\n",
            "epoch:  13\n",
            "Train Step: 11000\tLoss: 0.037\tAccuracy: 100.000\n",
            "epoch:  14\n",
            "Train Step: 12000\tLoss: 0.018\tAccuracy: 98.000\n",
            "epoch:  15\n",
            "Train Step: 13000\tLoss: 0.027\tAccuracy: 100.000\n"
          ],
          "name": "stdout"
        }
      ]
    },
    {
      "metadata": {
        "id": "Nxr_pzElmAMn",
        "colab_type": "code",
        "outputId": "8e130491-27c6-4801-f515-32599e98bb21",
        "colab": {
          "base_uri": "https://localhost:8080/",
          "height": 72
        }
      },
      "cell_type": "code",
      "source": [
        "model.eval()\n",
        "correct = 0\n",
        "for images, labels in testloader:\n",
        "    with torch.no_grad(): # so that computation graph history is not stored\n",
        "        images, labels = images.cuda(), labels.cuda() # send tensors to GPU\n",
        "        outputs = model(images)\n",
        "        predictions = outputs.data.max(1)[1]\n",
        "        correct += predictions.eq(labels.data).sum()\n",
        "print(correct, correct/len(testloader.dataset))\n",
        "print('Test set accuracy: {:.2f}%'.format(100.0 * correct / len(testloader.dataset)))"
      ],
      "execution_count": 0,
      "outputs": [
        {
          "output_type": "stream",
          "text": [
            "/usr/local/lib/python3.6/dist-packages/ipykernel_launcher.py:46: UserWarning: Implicit dimension choice for log_softmax has been deprecated. Change the call to include dim=X as an argument.\n"
          ],
          "name": "stderr"
        },
        {
          "output_type": "stream",
          "text": [
            "tensor(7754, device='cuda:0') tensor(0, device='cuda:0')\n",
            "Test set accuracy: 77.00%\n"
          ],
          "name": "stdout"
        }
      ]
    },
    {
      "metadata": {
        "id": "hf9Jkatdl9si",
        "colab_type": "code",
        "outputId": "e3b2fd2f-9da7-4062-a746-c8355dba3269",
        "colab": {
          "base_uri": "https://localhost:8080/",
          "height": 72
        }
      },
      "cell_type": "code",
      "source": [
        "correct = 0\n",
        "for images, labels in valloader:\n",
        "    with torch.no_grad(): # so that computation graph history is not stored\n",
        "        images, labels = images.cuda(), labels.cuda() # send tensors to GPU\n",
        "        outputs = model(images)\n",
        "        predictions = outputs.data.max(1)[1]\n",
        "        correct += predictions.eq(labels.data).sum()\n",
        "\n",
        "print(correct)\n",
        "print('Validation set accuracy: {:.2f}%'.format(100.0 * correct / len(valloader.dataset)))"
      ],
      "execution_count": 0,
      "outputs": [
        {
          "output_type": "stream",
          "text": [
            "/usr/local/lib/python3.6/dist-packages/ipykernel_launcher.py:46: UserWarning: Implicit dimension choice for log_softmax has been deprecated. Change the call to include dim=X as an argument.\n"
          ],
          "name": "stderr"
        },
        {
          "output_type": "stream",
          "text": [
            "tensor(3934, device='cuda:0')\n",
            "Validation set accuracy: 78.00%\n"
          ],
          "name": "stdout"
        }
      ]
    },
    {
      "metadata": {
        "id": "ZKyiW5Tql9vs",
        "colab_type": "code",
        "outputId": "04f0e31f-537c-447e-d30e-40e4f120cf6b",
        "colab": {
          "base_uri": "https://localhost:8080/",
          "height": 35
        }
      },
      "cell_type": "code",
      "source": [
        "pred = []\n",
        "lab = []\n",
        "for images, labels in testloader:\n",
        "    with torch.no_grad(): # so that computation graph history is not stored\n",
        "        images, labels = images.cuda(), labels.cuda() # send tensors to GPU\n",
        "        outputs = model(images)\n",
        "        predictions = outputs.data.max(1)[1]\n",
        "        p = predictions.cpu().numpy()\n",
        "        l = labels.cpu().numpy()\n",
        "        for i in range(p.shape[0]):\n",
        "            pred.append(p[i])\n",
        "            lab.append(l[i])"
      ],
      "execution_count": 0,
      "outputs": [
        {
          "output_type": "stream",
          "text": [
            "/usr/local/lib/python3.6/dist-packages/ipykernel_launcher.py:46: UserWarning: Implicit dimension choice for log_softmax has been deprecated. Change the call to include dim=X as an argument.\n"
          ],
          "name": "stderr"
        }
      ]
    },
    {
      "metadata": {
        "id": "qZokGs8Dl9yx",
        "colab_type": "code",
        "outputId": "fc8f640f-fa84-4ef4-f5a0-3994a8c3c37a",
        "colab": {
          "base_uri": "https://localhost:8080/",
          "height": 35
        }
      },
      "cell_type": "code",
      "source": [
        "import matplotlib.pyplot as plt\n",
        "\n",
        "def imshow(img):\n",
        "    img = img / 2 + 0.5\n",
        "    npimg = img.numpy()\n",
        "    plt.imshow(np.transpose(npimg,(1, 2, 0)))\n",
        "    \n",
        "legend = {0:\"airplane\", 1:\"automobile\", 2: \"bird\", 3: \"cat\", 4: \"deer\", 5: \"dog\", 6: \"frog\", 7: \"horse\", 8: \"ship\", 9: \"truck\"}\n",
        "test_images = [testloader.dataset.test_data[i] for i in range(len(testset))]\n",
        "test_labels = testloader.dataset.test_labels\n",
        "\n",
        "def test(i):\n",
        "    imshow(testset[i][0])\n",
        "    print(\"prediction:\", legend[pred[i]])\n",
        "    print(\"label:\", legend[lab[i]])\n",
        "\n",
        "ll = [i for i in range(10000) if legend[pred[i]] != legend[lab[i]]]\n",
        "print(ll[50:60])"
      ],
      "execution_count": 0,
      "outputs": [
        {
          "output_type": "stream",
          "text": [
            "[238, 242, 245, 247, 248, 254, 255, 256, 258, 259]\n"
          ],
          "name": "stdout"
        }
      ]
    },
    {
      "metadata": {
        "id": "NF33DTQul92l",
        "colab_type": "code",
        "outputId": "0619b524-ce7a-4288-9299-0c44a85770ee",
        "colab": {
          "base_uri": "https://localhost:8080/",
          "height": 384
        }
      },
      "cell_type": "code",
      "source": [
        "test(238)"
      ],
      "execution_count": 0,
      "outputs": [
        {
          "output_type": "stream",
          "text": [
            "prediction: cat\n",
            "label: dog\n"
          ],
          "name": "stdout"
        },
        {
          "output_type": "display_data",
          "data": {
            "image/png": "[encoded data removed]",
            "text/plain": [
              "<Figure size 576x396 with 1 Axes>"
            ]
          },
          "metadata": {
            "tags": []
          }
        }
      ]
    },
    {
      "metadata": {
        "id": "K9EyHPmwthFL",
        "colab_type": "code",
        "outputId": "bc5f3596-d6ec-4189-aeed-66a8876bc993",
        "colab": {
          "base_uri": "https://localhost:8080/",
          "height": 384
        }
      },
      "cell_type": "code",
      "source": [
        "test(200)"
      ],
      "execution_count": 0,
      "outputs": [
        {
          "output_type": "stream",
          "text": [
            "prediction: dog\n",
            "label: dog\n"
          ],
          "name": "stdout"
        },
        {
          "output_type": "display_data",
          "data": {
            "image/png": "[encoded data removed]",
            "text/plain": [
              "<Figure size 576x396 with 1 Axes>"
            ]
          },
          "metadata": {
            "tags": []
          }
        }
      ]
    },
    {
      "metadata": {
        "id": "BK_Ifjlftiqf",
        "colab_type": "code",
        "outputId": "c8d29805-8bc8-4ca3-f6f1-4973f550be5c",
        "colab": {
          "base_uri": "https://localhost:8080/",
          "height": 384
        }
      },
      "cell_type": "code",
      "source": [
        "test(258)"
      ],
      "execution_count": 0,
      "outputs": [
        {
          "output_type": "stream",
          "text": [
            "prediction: ship\n",
            "label: airplane\n"
          ],
          "name": "stdout"
        },
        {
          "output_type": "display_data",
          "data": {
            "image/png": "[encoded data removed]",
            "text/plain": [
              "<Figure size 576x396 with 1 Axes>"
            ]
          },
          "metadata": {
            "tags": []
          }
        }
      ]
    },
    {
      "metadata": {
        "id": "L9U9RxVhtbt0",
        "colab_type": "code",
        "outputId": "cf18f068-b47e-4212-da47-53aaa609c628",
        "colab": {
          "base_uri": "https://localhost:8080/",
          "height": 384
        }
      },
      "cell_type": "code",
      "source": [
        "test(567)"
      ],
      "execution_count": 0,
      "outputs": [
        {
          "output_type": "stream",
          "text": [
            "prediction: cat\n",
            "label: horse\n"
          ],
          "name": "stdout"
        },
        {
          "output_type": "display_data",
          "data": {
            "image/png": "[encoded data removed]",
            "text/plain": [
              "<Figure size 576x396 with 1 Axes>"
            ]
          },
          "metadata": {
            "tags": []
          }
        }
      ]
    },
    {
      "metadata": {
        "id": "75OmI7FQtZoA",
        "colab_type": "code",
        "outputId": "3321e054-d584-408f-8406-d4d9c0ee33ac",
        "colab": {
          "base_uri": "https://localhost:8080/",
          "height": 384
        }
      },
      "cell_type": "code",
      "source": [
        "test(593)"
      ],
      "execution_count": 0,
      "outputs": [
        {
          "output_type": "stream",
          "text": [
            "prediction: frog\n",
            "label: frog\n"
          ],
          "name": "stdout"
        },
        {
          "output_type": "display_data",
          "data": {
            "image/png": "[encoded data removed]",
            "text/plain": [
              "<Figure size 576x396 with 1 Axes>"
            ]
          },
          "metadata": {
            "tags": []
          }
        }
      ]
    },
    {
      "metadata": {
        "id": "6OBfZXuEtpkS",
        "colab_type": "code",
        "colab": {}
      },
      "cell_type": "code",
      "source": [
        ""
      ],
      "execution_count": 0,
      "outputs": []
    },
    {
      "metadata": {
        "id": "DXMXhZoxgteQ",
        "colab_type": "code",
        "colab": {}
      },
      "cell_type": "code",
      "source": [
        "class CIFAR10_Model(nn.Module):\n",
        "    def __init__(self):\n",
        "        super(CIFAR10_Model, self).__init__()\n",
        "        # input is 3x32x32\n",
        "        # padding=2, same int used for height and width dimension\n",
        "        self.conv1 = nn.Conv2d(3, 64, 5, padding=2)\n",
        "        self.conv2 = nn.Conv2d(64, 128, 5, padding=2)\n",
        "        self.conv3 = nn.Conv2d(128, 256, 5, padding=2)\n",
        "        self.conv4 = nn.Conv2d(256, 512, 5, padding=2)\n",
        "        \n",
        "        self.bn1 = nn.BatchNorm2d(64)\n",
        "        self.bn2 = nn.BatchNorm2d(128)\n",
        "        self.bn3 = nn.BatchNorm2d(256)\n",
        "        self.bn4 = nn.BatchNorm2d(512)\n",
        "        \n",
        "        self.fc1 = nn.Linear(512*2*2, 512)\n",
        "        self.fc2 = nn.Linear(512, 1024)\n",
        "        self.fc3 = nn.Linear(1024, 2048)\n",
        "        self.fc4 = nn.Linear(2048,10)\n",
        "        \n",
        "        self.bn11 = nn.BatchNorm1d(num_features=512)\n",
        "        self.bn12 = nn.BatchNorm1d(num_features=1024)\n",
        "        self.bn13 = nn.BatchNorm1d(num_features=2048)\n",
        "        \n",
        "    def forward(self, x):\n",
        "        x = F.max_pool2d(F.relu(self.conv1(x)), 2)\n",
        "        x = self.bn1(x)\n",
        "        x = F.max_pool2d(F.relu(self.conv2(x)), 2)\n",
        "        x = self.bn2(x)\n",
        "        x = F.max_pool2d(F.relu(self.conv3(x)), 2)\n",
        "        x = self.bn3(x)\n",
        "        x = F.max_pool2d(F.relu(self.conv4(x)), 2)\n",
        "        x = self.bn4(x)\n",
        "        \n",
        "        x = x.view(-1, 512*2*2) # reshape before sending to fc layer\n",
        "        x = F.relu(self.fc1(x))\n",
        "        x = F.dropout(x, training=self.training)\n",
        "        x = self.bn11(x)\n",
        "        x = F.relu(self.fc2(x))\n",
        "        x = F.dropout(x, training=self.training)\n",
        "        x = self.bn12(x)\n",
        "        x = F.relu(self.fc3(x))\n",
        "        x = F.dropout(x, training=self.training)\n",
        "        x = self.bn13(x)\n",
        "        \n",
        "        x = self.fc4(x)\n",
        "        \n",
        "        return F.log_softmax(x)"
      ],
      "execution_count": 0,
      "outputs": []
    },
    {
      "metadata": {
        "id": "dJmMttd6kLKc",
        "colab_type": "code",
        "outputId": "d44444a7-2e73-4cc4-a9dd-dbccbd82c2bc",
        "colab": {
          "base_uri": "https://localhost:8080/",
          "height": 326
        }
      },
      "cell_type": "code",
      "source": [
        "model = CIFAR10_Model()\n",
        "print(model)\n",
        "\n",
        "optimizer = optim.SGD(model.parameters(), lr=0.01, momentum=0.9)"
      ],
      "execution_count": 0,
      "outputs": [
        {
          "output_type": "stream",
          "text": [
            "CIFAR10_Model(\n",
            "  (conv1): Conv2d(3, 64, kernel_size=(5, 5), stride=(1, 1), padding=(2, 2))\n",
            "  (conv2): Conv2d(64, 128, kernel_size=(5, 5), stride=(1, 1), padding=(2, 2))\n",
            "  (conv3): Conv2d(128, 256, kernel_size=(5, 5), stride=(1, 1), padding=(2, 2))\n",
            "  (conv4): Conv2d(256, 512, kernel_size=(5, 5), stride=(1, 1), padding=(2, 2))\n",
            "  (bn1): BatchNorm2d(64, eps=1e-05, momentum=0.1, affine=True, track_running_stats=True)\n",
            "  (bn2): BatchNorm2d(128, eps=1e-05, momentum=0.1, affine=True, track_running_stats=True)\n",
            "  (bn3): BatchNorm2d(256, eps=1e-05, momentum=0.1, affine=True, track_running_stats=True)\n",
            "  (bn4): BatchNorm2d(512, eps=1e-05, momentum=0.1, affine=True, track_running_stats=True)\n",
            "  (fc1): Linear(in_features=2048, out_features=512, bias=True)\n",
            "  (fc2): Linear(in_features=512, out_features=1024, bias=True)\n",
            "  (fc3): Linear(in_features=1024, out_features=2048, bias=True)\n",
            "  (fc4): Linear(in_features=2048, out_features=10, bias=True)\n",
            "  (bn11): BatchNorm1d(512, eps=1e-05, momentum=0.1, affine=True, track_running_stats=True)\n",
            "  (bn12): BatchNorm1d(1024, eps=1e-05, momentum=0.1, affine=True, track_running_stats=True)\n",
            "  (bn13): BatchNorm1d(2048, eps=1e-05, momentum=0.1, affine=True, track_running_stats=True)\n",
            ")\n"
          ],
          "name": "stdout"
        }
      ]
    },
    {
      "metadata": {
        "id": "OcQclMmDkjNQ",
        "colab_type": "code",
        "outputId": "96d09c2a-1733-4b86-ea58-bb8d9cd59033",
        "colab": {
          "base_uri": "https://localhost:8080/",
          "height": 583
        }
      },
      "cell_type": "code",
      "source": [
        "batch_size = 50\n",
        "\n",
        "# send model to GPU\n",
        "model.cuda()\n",
        "\n",
        "model.train() # to set train mode for drop out\n",
        "train_loss, train_accu = [], []\n",
        "i = 0\n",
        "for epoch in range(15):\n",
        "    print(\"epoch: \", epoch+1)\n",
        "    for images, labels in trainloader:\n",
        "        # send tensors to GPU\n",
        "        images, labels = images.cuda(), labels.cuda()\n",
        "        \n",
        "        optimizer.zero_grad()               # zero the parameter gradients\n",
        "        outputs = model(images)            # calls the forward function of model, i.e. model.forward(images)\n",
        "        loss = F.nll_loss(outputs, labels)  # calculate loss\n",
        "        loss.backward()                     # calculate gradients\n",
        "        train_loss.append(loss.item())\n",
        "        optimizer.step()                    # update learnable parameters\n",
        "        predictions = outputs.data.max(1)[1]# column at idx 1 has actual prob.  \n",
        "        \n",
        "        # send tensors back to CPU because numpy ops don't support GPU.\n",
        "        # accuracy = np.sum(predictions.cpu().numpy()==labels.cpu().numpy())/batch_size*100\n",
        "        p = predictions.cpu().numpy()\n",
        "        l = labels.cpu().numpy()\n",
        "        # print(p,l)\n",
        "        accuracy = np.sum(p==l)/batch_size*100\n",
        "        \n",
        "        train_accu.append(accuracy)\n",
        "        if i % 1000 == 0:\n",
        "            print('Train Step: {}\\tLoss: {:.3f}\\tAccuracy: {:.3f}'.format(i, loss.item(), accuracy))\n",
        "        i += 1"
      ],
      "execution_count": 0,
      "outputs": [
        {
          "output_type": "stream",
          "text": [
            "epoch:  1\n",
            "Train Step: 0\tLoss: 2.358\tAccuracy: 12.000\n"
          ],
          "name": "stdout"
        },
        {
          "output_type": "stream",
          "text": [
            "/usr/local/lib/python3.6/dist-packages/ipykernel_launcher.py:49: UserWarning: Implicit dimension choice for log_softmax has been deprecated. Change the call to include dim=X as an argument.\n"
          ],
          "name": "stderr"
        },
        {
          "output_type": "stream",
          "text": [
            "epoch:  2\n",
            "Train Step: 1000\tLoss: 1.347\tAccuracy: 54.000\n",
            "epoch:  3\n",
            "Train Step: 2000\tLoss: 0.859\tAccuracy: 68.000\n",
            "epoch:  4\n",
            "Train Step: 3000\tLoss: 0.815\tAccuracy: 70.000\n",
            "epoch:  5\n",
            "Train Step: 4000\tLoss: 0.827\tAccuracy: 72.000\n",
            "epoch:  6\n",
            "Train Step: 5000\tLoss: 0.531\tAccuracy: 84.000\n",
            "epoch:  7\n",
            "Train Step: 6000\tLoss: 0.627\tAccuracy: 80.000\n",
            "epoch:  8\n",
            "Train Step: 7000\tLoss: 0.291\tAccuracy: 90.000\n",
            "epoch:  9\n",
            "Train Step: 8000\tLoss: 0.648\tAccuracy: 86.000\n",
            "epoch:  10\n",
            "epoch:  11\n",
            "Train Step: 9000\tLoss: 0.056\tAccuracy: 100.000\n",
            "epoch:  12\n",
            "Train Step: 10000\tLoss: 0.120\tAccuracy: 96.000\n",
            "epoch:  13\n",
            "Train Step: 11000\tLoss: 0.096\tAccuracy: 94.000\n",
            "epoch:  14\n",
            "Train Step: 12000\tLoss: 0.040\tAccuracy: 98.000\n",
            "epoch:  15\n",
            "Train Step: 13000\tLoss: 0.129\tAccuracy: 96.000\n"
          ],
          "name": "stdout"
        }
      ]
    },
    {
      "metadata": {
        "id": "vj-T-0cumsMq",
        "colab_type": "code",
        "outputId": "102bc55e-2860-4edb-b492-802acbba6059",
        "colab": {
          "base_uri": "https://localhost:8080/",
          "height": 92
        }
      },
      "cell_type": "code",
      "source": [
        "model.eval()\n",
        "correct = 0\n",
        "for images, labels in testloader:\n",
        "    with torch.no_grad(): # so that computation graph history is not stored\n",
        "        images, labels = images.cuda(), labels.cuda() # send tensors to GPU\n",
        "        outputs = model(images)\n",
        "        predictions = outputs.data.max(1)[1]\n",
        "        correct += predictions.eq(labels.data).sum()\n",
        "print(correct, correct/len(testloader.dataset))\n",
        "print('Test set accuracy: {:.2f}%'.format(100.0 * correct / len(testloader.dataset)))"
      ],
      "execution_count": 0,
      "outputs": [
        {
          "output_type": "stream",
          "text": [
            "/usr/local/lib/python3.6/dist-packages/ipykernel_launcher.py:49: UserWarning: Implicit dimension choice for log_softmax has been deprecated. Change the call to include dim=X as an argument.\n"
          ],
          "name": "stderr"
        },
        {
          "output_type": "stream",
          "text": [
            "tensor(7936, device='cuda:0') tensor(0, device='cuda:0')\n",
            "Test set accuracy: 79.00%\n"
          ],
          "name": "stdout"
        }
      ]
    },
    {
      "metadata": {
        "id": "Hkg0HFCmpopw",
        "colab_type": "code",
        "outputId": "f7671a87-c1b8-427e-9723-a9e1f19459d8",
        "colab": {
          "base_uri": "https://localhost:8080/",
          "height": 92
        }
      },
      "cell_type": "code",
      "source": [
        "correct = 0\n",
        "for images, labels in valloader:\n",
        "    with torch.no_grad(): # so that computation graph history is not stored\n",
        "        images, labels = images.cuda(), labels.cuda() # send tensors to GPU\n",
        "        outputs = model(images)\n",
        "        predictions = outputs.data.max(1)[1]\n",
        "        correct += predictions.eq(labels.data).sum()\n",
        "\n",
        "print(correct)\n",
        "print('Validation set accuracy: {:.2f}%'.format(100.0 * correct / len(valloader.dataset)))"
      ],
      "execution_count": 0,
      "outputs": [
        {
          "output_type": "stream",
          "text": [
            "/usr/local/lib/python3.6/dist-packages/ipykernel_launcher.py:49: UserWarning: Implicit dimension choice for log_softmax has been deprecated. Change the call to include dim=X as an argument.\n"
          ],
          "name": "stderr"
        },
        {
          "output_type": "stream",
          "text": [
            "tensor(3972, device='cuda:0')\n",
            "Validation set accuracy: 79.00%\n"
          ],
          "name": "stdout"
        }
      ]
    },
    {
      "metadata": {
        "id": "CMdSJ9iFvNVE",
        "colab_type": "code",
        "outputId": "123e30ff-1ca1-45a3-e913-029a59ec86cf",
        "colab": {
          "base_uri": "https://localhost:8080/",
          "height": 74
        }
      },
      "cell_type": "code",
      "source": [
        "pred = []\n",
        "for images, labels in testloader:\n",
        "    with torch.no_grad(): # so that computation graph history is not stored\n",
        "        images, labels = images.cuda(), labels.cuda() # send tensors to GPU\n",
        "        outputs = model(images)\n",
        "        predictions = outputs.data.max(1)[1]\n",
        "        p = predictions.cpu().numpy()\n",
        "        l = labels.cpu().numpy()\n",
        "        for i in range(p.shape[0]):\n",
        "            pred.append(p[i])\n",
        "\n",
        "ll = [i for i in range(10000) if legend[pred[i]] != legend[lab[i]]]\n",
        "print(ll[10:20])"
      ],
      "execution_count": 0,
      "outputs": [
        {
          "output_type": "stream",
          "text": [
            "/usr/local/lib/python3.6/dist-packages/ipykernel_launcher.py:49: UserWarning: Implicit dimension choice for log_softmax has been deprecated. Change the call to include dim=X as an argument.\n"
          ],
          "name": "stderr"
        },
        {
          "output_type": "stream",
          "text": [
            "[56, 57, 58, 61, 71, 74, 76, 85, 86, 87]\n"
          ],
          "name": "stdout"
        }
      ]
    },
    {
      "metadata": {
        "id": "9M3KlNhSC4Qa",
        "colab_type": "code",
        "outputId": "fd807167-0aa4-40f9-bba1-724a7346a8b2",
        "colab": {
          "base_uri": "https://localhost:8080/",
          "height": 384
        }
      },
      "cell_type": "code",
      "source": [
        "test(9)"
      ],
      "execution_count": 0,
      "outputs": [
        {
          "output_type": "stream",
          "text": [
            "prediction: frog\n",
            "label: automobile\n"
          ],
          "name": "stdout"
        },
        {
          "output_type": "display_data",
          "data": {
            "image/png": "[encoded data removed]",
            "text/plain": [
              "<Figure size 576x396 with 1 Axes>"
            ]
          },
          "metadata": {
            "tags": []
          }
        }
      ]
    },
    {
      "metadata": {
        "id": "iGF94-UMC6-f",
        "colab_type": "code",
        "outputId": "939670bc-0bf7-4935-d1f0-2a92bf127232",
        "colab": {
          "base_uri": "https://localhost:8080/",
          "height": 384
        }
      },
      "cell_type": "code",
      "source": [
        "test(2018)"
      ],
      "execution_count": 0,
      "outputs": [
        {
          "output_type": "stream",
          "text": [
            "prediction: frog\n",
            "label: cat\n"
          ],
          "name": "stdout"
        },
        {
          "output_type": "display_data",
          "data": {
            "image/png": "[encoded data removed]",
            "text/plain": [
              "<Figure size 576x396 with 1 Axes>"
            ]
          },
          "metadata": {
            "tags": []
          }
        }
      ]
    },
    {
      "metadata": {
        "id": "xJrh_HSFC9Fa",
        "colab_type": "code",
        "outputId": "4099d9c6-178e-4277-d783-dce218cde3c0",
        "colab": {
          "base_uri": "https://localhost:8080/",
          "height": 384
        }
      },
      "cell_type": "code",
      "source": [
        "test(1030)"
      ],
      "execution_count": 0,
      "outputs": [
        {
          "output_type": "stream",
          "text": [
            "prediction: cat\n",
            "label: cat\n"
          ],
          "name": "stdout"
        },
        {
          "output_type": "display_data",
          "data": {
            "image/png": "[encoded data removed]",
            "text/plain": [
              "<Figure size 576x396 with 1 Axes>"
            ]
          },
          "metadata": {
            "tags": []
          }
        }
      ]
    },
    {
      "metadata": {
        "id": "pmvxGULpDB9w",
        "colab_type": "code",
        "outputId": "b0d4e186-9112-4559-bc8d-685f0883d825",
        "colab": {
          "base_uri": "https://localhost:8080/",
          "height": 384
        }
      },
      "cell_type": "code",
      "source": [
        "test(74)"
      ],
      "execution_count": 0,
      "outputs": [
        {
          "output_type": "stream",
          "text": [
            "prediction: ship\n",
            "label: airplane\n"
          ],
          "name": "stdout"
        },
        {
          "output_type": "display_data",
          "data": {
            "image/png": "[encoded data removed]",
            "text/plain": [
              "<Figure size 576x396 with 1 Axes>"
            ]
          },
          "metadata": {
            "tags": []
          }
        }
      ]
    },
    {
      "metadata": {
        "id": "e78dcHcrDKWR",
        "colab_type": "code",
        "outputId": "3cbb24cd-3272-4d9e-fcdf-977d9507f7cc",
        "colab": {
          "base_uri": "https://localhost:8080/",
          "height": 384
        }
      },
      "cell_type": "code",
      "source": [
        "test(85)"
      ],
      "execution_count": 0,
      "outputs": [
        {
          "output_type": "stream",
          "text": [
            "prediction: horse\n",
            "label: dog\n"
          ],
          "name": "stdout"
        },
        {
          "output_type": "display_data",
          "data": {
            "image/png": "[encoded data removed]",
            "text/plain": [
              "<Figure size 576x396 with 1 Axes>"
            ]
          },
          "metadata": {
            "tags": []
          }
        }
      ]
    },
    {
      "metadata": {
        "id": "Ys8W_w6CDLwU",
        "colab_type": "code",
        "outputId": "ebcad0c2-b7e3-47dd-8b17-d4d485683260",
        "colab": {
          "base_uri": "https://localhost:8080/",
          "height": 384
        }
      },
      "cell_type": "code",
      "source": [
        "test(1508)"
      ],
      "execution_count": 0,
      "outputs": [
        {
          "output_type": "stream",
          "text": [
            "prediction: ship\n",
            "label: ship\n"
          ],
          "name": "stdout"
        },
        {
          "output_type": "display_data",
          "data": {
            "image/png": "[encoded data removed]",
            "text/plain": [
              "<Figure size 576x396 with 1 Axes>"
            ]
          },
          "metadata": {
            "tags": []
          }
        }
      ]
    },
    {
      "metadata": {
        "id": "rJG5KWG9sePQ",
        "colab_type": "text"
      },
      "cell_type": "markdown",
      "source": [
        "**Discussion**\n",
        "\n",
        "We have three models: the first is the original CNN model from the PyTorch tutorial with 2 convolutional layers and two fully connected layers, using ReLu activation. The second model is like the first except that it has more convolutional layers, more fully connected layers, and batch normalization layers (4 each). The third model is like the second except that there are dropout layers in between the fully connected layers.\n",
        "\n",
        "The results:\n",
        "\n",
        "Model: 1\n",
        "\n",
        "The training loss, training accuracy, validation accuracy, and test accuracy were 0.210, 98%, 75.08%, and 74.94%, respectively.\n",
        "\n",
        "Model 2:\n",
        "\n",
        "The training loss, training accuracy, validation accuracy, and test accuracy were 0.027, 100%, 78.68% and 77.54% respectively.\n",
        "\n",
        "Model 3:\n",
        "\n",
        "The training loss, training accuracy, validation accuracy, and test accuracy were 0.129, 96%, 79.44, and 79.36, respectively.\n",
        "\n",
        "\n",
        "There is a notable difference between the accuracy of the first and second models, so this suggests that addition of more convolutional layers and fully connected layers can improve accuracy. There was a much smaller difference between the second and third models, but it may be significant because the only difference was the addition of a few dropout layers."
      ]
    }
  ]
}
